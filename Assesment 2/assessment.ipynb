{
 "metadata": {
  "language_info": {
   "codemirror_mode": {
    "name": "ipython",
    "version": 3
   },
   "file_extension": ".py",
   "mimetype": "text/x-python",
   "name": "python",
   "nbconvert_exporter": "python",
   "pygments_lexer": "ipython3",
   "version": "3.6.5-final"
  },
  "orig_nbformat": 2,
  "kernelspec": {
   "name": "virtualenv",
   "display_name": "virtualEnv",
   "language": "python"
  }
 },
 "nbformat": 4,
 "nbformat_minor": 2,
 "cells": [
  {
   "cell_type": "code",
   "execution_count": 7,
   "metadata": {
    "tags": []
   },
   "outputs": [],
   "source": [
    "# dfs concurrency\n",
    "import requests\n",
    "from bs4 import BeautifulSoup\n",
    "from collections import deque\n",
    "import re\n",
    "import threading\n",
    "\n",
    "def dfs(url):\n",
    "    visited = set([url])\n",
    "    dq = deque([[url, \"\", 0]])\n",
    "    max_depth = 3\n",
    "    max_breadth = 5\n",
    "    string = \"\"\n",
    "    while dq:\n",
    "        base, path, depth = dq.popleft()\n",
    "        if depth < max_depth:\n",
    "            try:\n",
    "                soup = BeautifulSoup(requests.get(base + path).text, \"html.parser\")\n",
    "                links = soup.find_all(\"a\")[:max_breadth]\n",
    "                for link in links:\n",
    "                    href = link.get(\"href\")\n",
    "                    if href not in visited:\n",
    "                        visited.add(href)\n",
    "                        string += (\"  \" * depth + f\"at depth {depth}: {href}\\n\")\n",
    "\n",
    "                        if href.startswith(\"http\") or href.startswith(\"https\"):\n",
    "                            dq.append([href, \"\", depth + 1])\n",
    "                        else:\n",
    "                            dq.append([base, href, depth + 1])\n",
    "            except:\n",
    "                pass\n",
    "\n",
    "    filename =\"\"\n",
    "    if \"https://\" in url:\n",
    "        filename = re.sub(r\"https://\",\"\",url)\n",
    "        filename = re.sub(r\".com\",\"\",filename)\n",
    "    elif \"http://\" in url:\n",
    "        filename = re.sub(r\"http://\",\"\",url)\n",
    "        filename = re.sub(r\".com\",\"\",filename)\n",
    "\n",
    "    file  = open(\"crawled_links/\"+filename+\".txt\",\"w\")\n",
    "    file.write(string)\n",
    "    file.close()"
   ]
  },
  {
   "cell_type": "code",
   "execution_count": 8,
   "metadata": {},
   "outputs": [
    {
     "output_type": "stream",
     "name": "stdout",
     "text": [
      "files made!\n"
     ]
    }
   ],
   "source": [
    "frontier = [\"http://toscrape.com\", \"https://soundcloud.com\", \"http://reddit.com\", \"https://fc2.com\"]\n",
    "\n",
    "def threadCreater(frontier):\n",
    "    threads = []\n",
    "    for i in frontier:\n",
    "        t = threading.Thread(target = dfs, args=(i,))\n",
    "        threads.append(t)\n",
    "    return threads\n",
    "\n",
    "threads = threadCreater(frontier)\n",
    "for i in threads:\n",
    "    i.start()\n",
    "for i in threads:\n",
    "    i.join()\n",
    "print(\"files made!\")"
   ]
  },
  {
   "cell_type": "code",
   "execution_count": 20,
   "metadata": {},
   "outputs": [
    {
     "output_type": "stream",
     "name": "stdout",
     "text": [
      "000011010\n000011011\n11111\n"
     ]
    }
   ],
   "source": [
    "import math\n",
    "\n",
    "def unary(x):\n",
    "    return '0'*(x-1)+'1'\n",
    "\n",
    "def encoder(x, b):\n",
    "    q = math.floor(x/b)\n",
    "    q_encode = unary(q+1)\n",
    "    i = math.floor(math.log2(b))\n",
    "    d = int(2**(i+1))-b\n",
    "    r = x%b\n",
    "    rem = \"\"\n",
    "    if r < d:\n",
    "        rem = bin(r)[2:]\n",
    "        l = len(rem)\n",
    "        if l < i:\n",
    "            rem = '0'*(i - l)+rem\n",
    "    else:\n",
    "        rem = bin(r + d)[2:]\n",
    "        l = len(rem)\n",
    "        if l < i+1:\n",
    "            rem = '0'*(i+1-l) + rem\n",
    "    return q_encode+rem\n",
    "\n",
    "print(encoder(74, 16))\n",
    "print(encoder(50, 11))\n",
    "print(encoder(9,10))"
   ]
  },
  {
   "cell_type": "code",
   "execution_count": 10,
   "metadata": {},
   "outputs": [
    {
     "output_type": "stream",
     "name": "stdout",
     "text": [
      "9\n"
     ]
    }
   ],
   "source": [
    "def decode(n, M):\n",
    "    q=len(n.split('1')[0])\n",
    "    b=math.floor(math.log2(M))\n",
    "    k = 2**(b+1)-M\n",
    "    r = int(n[q+1:q+1+b],2)\n",
    "    if r>=k:\n",
    "        r = int(n[q+1:q+1+b+1],2)\n",
    "        r=r-k\n",
    "    x=q*M+r\n",
    "    return x\n",
    "\n",
    "print(decode(\"1111111110010001101\", 10))"
   ]
  },
  {
   "cell_type": "code",
   "execution_count": 11,
   "metadata": {},
   "outputs": [
    {
     "output_type": "execute_result",
     "data": {
      "text/plain": [
       "               Terms  Doc 1  Doc 2  Doc 3  Doc 4  Doc 5  Doc 6\n",
       "0             masand      2      0      0      0      0      0\n",
       "1               kurt      1      0      3      0      0      0\n",
       "2              vol.3      1      0      0      0      0      0\n",
       "3       vazirgiannis      1      0      0      0      0      0\n",
       "4      cs.lg/0011033      1      0      0      0      0      0\n",
       "...              ...    ...    ...    ...    ...    ...    ...\n",
       "15125           roll      0      0      1      0      0      1\n",
       "15126         social      0      4     21      5      1     10\n",
       "15127         nature      1      0      8      7      1      3\n",
       "15128        linking      0      0      0      0      0      2\n",
       "15129             26      0      1     33      2      1      1\n",
       "\n",
       "[15130 rows x 7 columns]"
      ],
      "text/html": "<div>\n<style scoped>\n    .dataframe tbody tr th:only-of-type {\n        vertical-align: middle;\n    }\n\n    .dataframe tbody tr th {\n        vertical-align: top;\n    }\n\n    .dataframe thead th {\n        text-align: right;\n    }\n</style>\n<table border=\"1\" class=\"dataframe\">\n  <thead>\n    <tr style=\"text-align: right;\">\n      <th></th>\n      <th>Terms</th>\n      <th>Doc 1</th>\n      <th>Doc 2</th>\n      <th>Doc 3</th>\n      <th>Doc 4</th>\n      <th>Doc 5</th>\n      <th>Doc 6</th>\n    </tr>\n  </thead>\n  <tbody>\n    <tr>\n      <th>0</th>\n      <td>masand</td>\n      <td>2</td>\n      <td>0</td>\n      <td>0</td>\n      <td>0</td>\n      <td>0</td>\n      <td>0</td>\n    </tr>\n    <tr>\n      <th>1</th>\n      <td>kurt</td>\n      <td>1</td>\n      <td>0</td>\n      <td>3</td>\n      <td>0</td>\n      <td>0</td>\n      <td>0</td>\n    </tr>\n    <tr>\n      <th>2</th>\n      <td>vol.3</td>\n      <td>1</td>\n      <td>0</td>\n      <td>0</td>\n      <td>0</td>\n      <td>0</td>\n      <td>0</td>\n    </tr>\n    <tr>\n      <th>3</th>\n      <td>vazirgiannis</td>\n      <td>1</td>\n      <td>0</td>\n      <td>0</td>\n      <td>0</td>\n      <td>0</td>\n      <td>0</td>\n    </tr>\n    <tr>\n      <th>4</th>\n      <td>cs.lg/0011033</td>\n      <td>1</td>\n      <td>0</td>\n      <td>0</td>\n      <td>0</td>\n      <td>0</td>\n      <td>0</td>\n    </tr>\n    <tr>\n      <th>...</th>\n      <td>...</td>\n      <td>...</td>\n      <td>...</td>\n      <td>...</td>\n      <td>...</td>\n      <td>...</td>\n      <td>...</td>\n    </tr>\n    <tr>\n      <th>15125</th>\n      <td>roll</td>\n      <td>0</td>\n      <td>0</td>\n      <td>1</td>\n      <td>0</td>\n      <td>0</td>\n      <td>1</td>\n    </tr>\n    <tr>\n      <th>15126</th>\n      <td>social</td>\n      <td>0</td>\n      <td>4</td>\n      <td>21</td>\n      <td>5</td>\n      <td>1</td>\n      <td>10</td>\n    </tr>\n    <tr>\n      <th>15127</th>\n      <td>nature</td>\n      <td>1</td>\n      <td>0</td>\n      <td>8</td>\n      <td>7</td>\n      <td>1</td>\n      <td>3</td>\n    </tr>\n    <tr>\n      <th>15128</th>\n      <td>linking</td>\n      <td>0</td>\n      <td>0</td>\n      <td>0</td>\n      <td>0</td>\n      <td>0</td>\n      <td>2</td>\n    </tr>\n    <tr>\n      <th>15129</th>\n      <td>26</td>\n      <td>0</td>\n      <td>1</td>\n      <td>33</td>\n      <td>2</td>\n      <td>1</td>\n      <td>1</td>\n    </tr>\n  </tbody>\n</table>\n<p>15130 rows × 7 columns</p>\n</div>"
     },
     "metadata": {},
     "execution_count": 11
    }
   ],
   "source": [
    "# Q4\n",
    "from nltk.tokenize import word_tokenize\n",
    "from spacy.lang.en.stop_words import STOP_WORDS\n",
    "from functools import reduce\n",
    "from urllib import request\n",
    "import pandas as pd\n",
    "\n",
    "stop_words = set(STOP_WORDS)\n",
    "stop_words = stop_words.union({'.',',','\\'','\\\"','?','{','}','[',']','<','>','(',')','!'})\n",
    "\n",
    "def extract(url):\n",
    "    html = request.urlopen(url).read().decode('utf8')\n",
    "    string = BeautifulSoup(html, 'html.parser').get_text().lower()\n",
    "    return list(word_tokenize(string))\n",
    "\n",
    "def store(name, ls):\n",
    "    with open(name,'w') as f:\n",
    "        for item in list(ls):\n",
    "            try:\n",
    "                f.write('%s\\n'%item)\n",
    "            except:\n",
    "                pass\n",
    "def term_maker(ls, filenames):\n",
    "    terms = []\n",
    "    index = 0\n",
    "    for i in ls:\n",
    "        st = set(i).difference(stop_words)\n",
    "        store('extracted_content/'+filenames[index]+'.txt', list(st))\n",
    "        index += 1\n",
    "        terms.append(list(st))\n",
    "    terms = reduce(lambda z,y : z+y, terms)\n",
    "    return terms\n",
    "\n",
    "def counter(tokens, terms):\n",
    "    ls = []\n",
    "    for i in terms:\n",
    "        ls.append(tokens.count(i))\n",
    "    return ls\n",
    "\n",
    "base = 'https://en.wikipedia.org/wiki/'\n",
    "links = ['Web_mining','Data_mining','Artificial_intelligence','Machine_learning','Natural_language_processing','Text_mining']\n",
    "token_list = []\n",
    "for i in links:\n",
    "    token_list.append(extract(base+i))\n",
    "terms = term_maker(token_list, links)\n",
    "bagOfWords = []\n",
    "for i in token_list:\n",
    "    bagOfWords.append(counter(i,terms))\n",
    "\n",
    "pd.DataFrame({\n",
    "    \"Terms\" : list(terms),\n",
    "    \"Doc 1\" : bagOfWords[0],     \n",
    "    \"Doc 2\" : bagOfWords[1],     \n",
    "    \"Doc 3\" : bagOfWords[2],     \n",
    "    \"Doc 4\" : bagOfWords[3],     \n",
    "    \"Doc 5\" : bagOfWords[4],     \n",
    "    \"Doc 6\" : bagOfWords[5]    \n",
    "})"
   ]
  },
  {
   "cell_type": "code",
   "execution_count": 12,
   "metadata": {},
   "outputs": [
    {
     "output_type": "execute_result",
     "data": {
      "text/plain": [
       "               Terms     Doc 1     Doc 2     Doc 3     Doc 4     Doc 5  \\\n",
       "0             masand  0.000576  0.000000  0.000000  0.000000  0.000000   \n",
       "1               kurt  0.000288  0.000000  0.000273  0.000000  0.000000   \n",
       "2              vol.3  0.000288  0.000000  0.000000  0.000000  0.000000   \n",
       "3       vazirgiannis  0.000288  0.000000  0.000000  0.000000  0.000000   \n",
       "4      cs.lg/0011033  0.000288  0.000000  0.000000  0.000000  0.000000   \n",
       "...              ...       ...       ...       ...       ...       ...   \n",
       "15125           roll  0.000000  0.000000  0.000091  0.000000  0.000000   \n",
       "15126         social  0.000000  0.000706  0.001913  0.000645  0.000186   \n",
       "15127         nature  0.000288  0.000000  0.000729  0.000903  0.000186   \n",
       "15128        linking  0.000000  0.000000  0.000000  0.000000  0.000000   \n",
       "15129             26  0.000000  0.000177  0.003007  0.000258  0.000186   \n",
       "\n",
       "          Doc 6  \n",
       "0      0.000000  \n",
       "1      0.000000  \n",
       "2      0.000000  \n",
       "3      0.000000  \n",
       "4      0.000000  \n",
       "...         ...  \n",
       "15125  0.000194  \n",
       "15126  0.001937  \n",
       "15127  0.000581  \n",
       "15128  0.000387  \n",
       "15129  0.000194  \n",
       "\n",
       "[15130 rows x 7 columns]"
      ],
      "text/html": "<div>\n<style scoped>\n    .dataframe tbody tr th:only-of-type {\n        vertical-align: middle;\n    }\n\n    .dataframe tbody tr th {\n        vertical-align: top;\n    }\n\n    .dataframe thead th {\n        text-align: right;\n    }\n</style>\n<table border=\"1\" class=\"dataframe\">\n  <thead>\n    <tr style=\"text-align: right;\">\n      <th></th>\n      <th>Terms</th>\n      <th>Doc 1</th>\n      <th>Doc 2</th>\n      <th>Doc 3</th>\n      <th>Doc 4</th>\n      <th>Doc 5</th>\n      <th>Doc 6</th>\n    </tr>\n  </thead>\n  <tbody>\n    <tr>\n      <th>0</th>\n      <td>masand</td>\n      <td>0.000576</td>\n      <td>0.000000</td>\n      <td>0.000000</td>\n      <td>0.000000</td>\n      <td>0.000000</td>\n      <td>0.000000</td>\n    </tr>\n    <tr>\n      <th>1</th>\n      <td>kurt</td>\n      <td>0.000288</td>\n      <td>0.000000</td>\n      <td>0.000273</td>\n      <td>0.000000</td>\n      <td>0.000000</td>\n      <td>0.000000</td>\n    </tr>\n    <tr>\n      <th>2</th>\n      <td>vol.3</td>\n      <td>0.000288</td>\n      <td>0.000000</td>\n      <td>0.000000</td>\n      <td>0.000000</td>\n      <td>0.000000</td>\n      <td>0.000000</td>\n    </tr>\n    <tr>\n      <th>3</th>\n      <td>vazirgiannis</td>\n      <td>0.000288</td>\n      <td>0.000000</td>\n      <td>0.000000</td>\n      <td>0.000000</td>\n      <td>0.000000</td>\n      <td>0.000000</td>\n    </tr>\n    <tr>\n      <th>4</th>\n      <td>cs.lg/0011033</td>\n      <td>0.000288</td>\n      <td>0.000000</td>\n      <td>0.000000</td>\n      <td>0.000000</td>\n      <td>0.000000</td>\n      <td>0.000000</td>\n    </tr>\n    <tr>\n      <th>...</th>\n      <td>...</td>\n      <td>...</td>\n      <td>...</td>\n      <td>...</td>\n      <td>...</td>\n      <td>...</td>\n      <td>...</td>\n    </tr>\n    <tr>\n      <th>15125</th>\n      <td>roll</td>\n      <td>0.000000</td>\n      <td>0.000000</td>\n      <td>0.000091</td>\n      <td>0.000000</td>\n      <td>0.000000</td>\n      <td>0.000194</td>\n    </tr>\n    <tr>\n      <th>15126</th>\n      <td>social</td>\n      <td>0.000000</td>\n      <td>0.000706</td>\n      <td>0.001913</td>\n      <td>0.000645</td>\n      <td>0.000186</td>\n      <td>0.001937</td>\n    </tr>\n    <tr>\n      <th>15127</th>\n      <td>nature</td>\n      <td>0.000288</td>\n      <td>0.000000</td>\n      <td>0.000729</td>\n      <td>0.000903</td>\n      <td>0.000186</td>\n      <td>0.000581</td>\n    </tr>\n    <tr>\n      <th>15128</th>\n      <td>linking</td>\n      <td>0.000000</td>\n      <td>0.000000</td>\n      <td>0.000000</td>\n      <td>0.000000</td>\n      <td>0.000000</td>\n      <td>0.000387</td>\n    </tr>\n    <tr>\n      <th>15129</th>\n      <td>26</td>\n      <td>0.000000</td>\n      <td>0.000177</td>\n      <td>0.003007</td>\n      <td>0.000258</td>\n      <td>0.000186</td>\n      <td>0.000194</td>\n    </tr>\n  </tbody>\n</table>\n<p>15130 rows × 7 columns</p>\n</div>"
     },
     "metadata": {},
     "execution_count": 12
    }
   ],
   "source": [
    "def total(ls):\n",
    "    count=0\n",
    "    for i in ls:\n",
    "        if i != 0:\n",
    "            count+=1\n",
    "    return count\n",
    "\n",
    "TF = [[number/total(i) for number in i] for i in bagOfWords]\n",
    "pd.DataFrame({\n",
    "    \"Terms\" : list(terms),\n",
    "    \"Doc 1\" : TF[0],     \n",
    "    \"Doc 2\" : TF[1],     \n",
    "    \"Doc 3\" : TF[2],     \n",
    "    \"Doc 4\" : TF[3],     \n",
    "    \"Doc 5\" : TF[4],     \n",
    "    \"Doc 6\" : TF[5]    \n",
    "})"
   ]
  },
  {
   "cell_type": "code",
   "execution_count": 13,
   "metadata": {
    "tags": []
   },
   "outputs": [
    {
     "output_type": "execute_result",
     "data": {
      "text/plain": [
       "               Terms  IDF value\n",
       "0             masand   1.945910\n",
       "1               kurt   1.252763\n",
       "2              vol.3   1.945910\n",
       "3       vazirgiannis   1.945910\n",
       "4      cs.lg/0011033   1.945910\n",
       "...              ...        ...\n",
       "15125           roll   1.252763\n",
       "15126         social   0.336472\n",
       "15127         nature   0.336472\n",
       "15128        linking   1.945910\n",
       "15129             26   0.336472\n",
       "\n",
       "[15130 rows x 2 columns]"
      ],
      "text/html": "<div>\n<style scoped>\n    .dataframe tbody tr th:only-of-type {\n        vertical-align: middle;\n    }\n\n    .dataframe tbody tr th {\n        vertical-align: top;\n    }\n\n    .dataframe thead th {\n        text-align: right;\n    }\n</style>\n<table border=\"1\" class=\"dataframe\">\n  <thead>\n    <tr style=\"text-align: right;\">\n      <th></th>\n      <th>Terms</th>\n      <th>IDF value</th>\n    </tr>\n  </thead>\n  <tbody>\n    <tr>\n      <th>0</th>\n      <td>masand</td>\n      <td>1.945910</td>\n    </tr>\n    <tr>\n      <th>1</th>\n      <td>kurt</td>\n      <td>1.252763</td>\n    </tr>\n    <tr>\n      <th>2</th>\n      <td>vol.3</td>\n      <td>1.945910</td>\n    </tr>\n    <tr>\n      <th>3</th>\n      <td>vazirgiannis</td>\n      <td>1.945910</td>\n    </tr>\n    <tr>\n      <th>4</th>\n      <td>cs.lg/0011033</td>\n      <td>1.945910</td>\n    </tr>\n    <tr>\n      <th>...</th>\n      <td>...</td>\n      <td>...</td>\n    </tr>\n    <tr>\n      <th>15125</th>\n      <td>roll</td>\n      <td>1.252763</td>\n    </tr>\n    <tr>\n      <th>15126</th>\n      <td>social</td>\n      <td>0.336472</td>\n    </tr>\n    <tr>\n      <th>15127</th>\n      <td>nature</td>\n      <td>0.336472</td>\n    </tr>\n    <tr>\n      <th>15128</th>\n      <td>linking</td>\n      <td>1.945910</td>\n    </tr>\n    <tr>\n      <th>15129</th>\n      <td>26</td>\n      <td>0.336472</td>\n    </tr>\n  </tbody>\n</table>\n<p>15130 rows × 2 columns</p>\n</div>"
     },
     "metadata": {},
     "execution_count": 13
    }
   ],
   "source": [
    "import math\n",
    "def IDF_helper(ls):\n",
    "    total = []\n",
    "    length = len(ls[0])\n",
    "    for i in range(length):\n",
    "        count = 0\n",
    "        for j in range(len(ls)):\n",
    "            value = ls[j][i]\n",
    "            if value != 0:\n",
    "                count += 1\n",
    "        total.append(count)\n",
    "    return total\n",
    "\n",
    "def IDF_calc():\n",
    "    helper = IDF_helper(bagOfWords)\n",
    "    no_of_doc = 6\n",
    "    IDF_ls = []\n",
    "    for i in helper:\n",
    "        IDF_ls.append(math.log((1+no_of_doc)/i))\n",
    "    return IDF_ls\n",
    "pd.DataFrame({\n",
    "    \"Terms\" : list(terms),\n",
    "    \"IDF value\" : IDF_calc()\n",
    "})"
   ]
  },
  {
   "cell_type": "code",
   "execution_count": 14,
   "metadata": {},
   "outputs": [
    {
     "output_type": "execute_result",
     "data": {
      "text/plain": [
       "               Terms     Doc 1     Doc 2     Doc 3     Doc 4     Doc 5  \\\n",
       "0             masand  0.001121  0.000000  0.000000  0.000000  0.000000   \n",
       "1               kurt  0.000361  0.000000  0.000342  0.000000  0.000000   \n",
       "2              vol.3  0.000560  0.000000  0.000000  0.000000  0.000000   \n",
       "3       vazirgiannis  0.000560  0.000000  0.000000  0.000000  0.000000   \n",
       "4      cs.lg/0011033  0.000560  0.000000  0.000000  0.000000  0.000000   \n",
       "...              ...       ...       ...       ...       ...       ...   \n",
       "15125           roll  0.000000  0.000000  0.000114  0.000000  0.000000   \n",
       "15126         social  0.000000  0.000238  0.000644  0.000217  0.000063   \n",
       "15127         nature  0.000097  0.000000  0.000245  0.000304  0.000063   \n",
       "15128        linking  0.000000  0.000000  0.000000  0.000000  0.000000   \n",
       "15129             26  0.000000  0.000059  0.001012  0.000087  0.000063   \n",
       "\n",
       "          Doc 6  \n",
       "0      0.000000  \n",
       "1      0.000000  \n",
       "2      0.000000  \n",
       "3      0.000000  \n",
       "4      0.000000  \n",
       "...         ...  \n",
       "15125  0.000243  \n",
       "15126  0.000652  \n",
       "15127  0.000196  \n",
       "15128  0.000754  \n",
       "15129  0.000065  \n",
       "\n",
       "[15130 rows x 7 columns]"
      ],
      "text/html": "<div>\n<style scoped>\n    .dataframe tbody tr th:only-of-type {\n        vertical-align: middle;\n    }\n\n    .dataframe tbody tr th {\n        vertical-align: top;\n    }\n\n    .dataframe thead th {\n        text-align: right;\n    }\n</style>\n<table border=\"1\" class=\"dataframe\">\n  <thead>\n    <tr style=\"text-align: right;\">\n      <th></th>\n      <th>Terms</th>\n      <th>Doc 1</th>\n      <th>Doc 2</th>\n      <th>Doc 3</th>\n      <th>Doc 4</th>\n      <th>Doc 5</th>\n      <th>Doc 6</th>\n    </tr>\n  </thead>\n  <tbody>\n    <tr>\n      <th>0</th>\n      <td>masand</td>\n      <td>0.001121</td>\n      <td>0.000000</td>\n      <td>0.000000</td>\n      <td>0.000000</td>\n      <td>0.000000</td>\n      <td>0.000000</td>\n    </tr>\n    <tr>\n      <th>1</th>\n      <td>kurt</td>\n      <td>0.000361</td>\n      <td>0.000000</td>\n      <td>0.000342</td>\n      <td>0.000000</td>\n      <td>0.000000</td>\n      <td>0.000000</td>\n    </tr>\n    <tr>\n      <th>2</th>\n      <td>vol.3</td>\n      <td>0.000560</td>\n      <td>0.000000</td>\n      <td>0.000000</td>\n      <td>0.000000</td>\n      <td>0.000000</td>\n      <td>0.000000</td>\n    </tr>\n    <tr>\n      <th>3</th>\n      <td>vazirgiannis</td>\n      <td>0.000560</td>\n      <td>0.000000</td>\n      <td>0.000000</td>\n      <td>0.000000</td>\n      <td>0.000000</td>\n      <td>0.000000</td>\n    </tr>\n    <tr>\n      <th>4</th>\n      <td>cs.lg/0011033</td>\n      <td>0.000560</td>\n      <td>0.000000</td>\n      <td>0.000000</td>\n      <td>0.000000</td>\n      <td>0.000000</td>\n      <td>0.000000</td>\n    </tr>\n    <tr>\n      <th>...</th>\n      <td>...</td>\n      <td>...</td>\n      <td>...</td>\n      <td>...</td>\n      <td>...</td>\n      <td>...</td>\n      <td>...</td>\n    </tr>\n    <tr>\n      <th>15125</th>\n      <td>roll</td>\n      <td>0.000000</td>\n      <td>0.000000</td>\n      <td>0.000114</td>\n      <td>0.000000</td>\n      <td>0.000000</td>\n      <td>0.000243</td>\n    </tr>\n    <tr>\n      <th>15126</th>\n      <td>social</td>\n      <td>0.000000</td>\n      <td>0.000238</td>\n      <td>0.000644</td>\n      <td>0.000217</td>\n      <td>0.000063</td>\n      <td>0.000652</td>\n    </tr>\n    <tr>\n      <th>15127</th>\n      <td>nature</td>\n      <td>0.000097</td>\n      <td>0.000000</td>\n      <td>0.000245</td>\n      <td>0.000304</td>\n      <td>0.000063</td>\n      <td>0.000196</td>\n    </tr>\n    <tr>\n      <th>15128</th>\n      <td>linking</td>\n      <td>0.000000</td>\n      <td>0.000000</td>\n      <td>0.000000</td>\n      <td>0.000000</td>\n      <td>0.000000</td>\n      <td>0.000754</td>\n    </tr>\n    <tr>\n      <th>15129</th>\n      <td>26</td>\n      <td>0.000000</td>\n      <td>0.000059</td>\n      <td>0.001012</td>\n      <td>0.000087</td>\n      <td>0.000063</td>\n      <td>0.000065</td>\n    </tr>\n  </tbody>\n</table>\n<p>15130 rows × 7 columns</p>\n</div>"
     },
     "metadata": {},
     "execution_count": 14
    }
   ],
   "source": [
    "def TF_IDF_calc(ls):\n",
    "    IDF = IDF_calc()\n",
    "    for i in range(len(ls[0])):\n",
    "        for j in range(6):\n",
    "                ls[j][i]*=IDF[i]\n",
    "    return ls\n",
    "TF_IDF = TF_IDF_calc(TF)\n",
    "pd.DataFrame({\n",
    "    \"Terms\" : list(terms),\n",
    "    \"Doc 1\" : TF_IDF[0],\n",
    "    \"Doc 2\" : TF_IDF[1],\n",
    "    \"Doc 3\" : TF_IDF[2],\n",
    "    \"Doc 4\" : TF_IDF[3],\n",
    "    \"Doc 5\" : TF_IDF[4],\n",
    "    \"Doc 6\" : TF_IDF[5]\n",
    "})"
   ]
  },
  {
   "cell_type": "code",
   "execution_count": 15,
   "metadata": {},
   "outputs": [
    {
     "output_type": "execute_result",
     "data": {
      "text/plain": [
       "            Terms    TF_IDF\n",
       "0        learning  0.154151\n",
       "1         machine  0.154151\n",
       "2  communications  1.252763\n",
       "3            want  1.945910\n",
       "4           based  0.154151"
      ],
      "text/html": "<div>\n<style scoped>\n    .dataframe tbody tr th:only-of-type {\n        vertical-align: middle;\n    }\n\n    .dataframe tbody tr th {\n        vertical-align: top;\n    }\n\n    .dataframe thead th {\n        text-align: right;\n    }\n</style>\n<table border=\"1\" class=\"dataframe\">\n  <thead>\n    <tr style=\"text-align: right;\">\n      <th></th>\n      <th>Terms</th>\n      <th>TF_IDF</th>\n    </tr>\n  </thead>\n  <tbody>\n    <tr>\n      <th>0</th>\n      <td>learning</td>\n      <td>0.154151</td>\n    </tr>\n    <tr>\n      <th>1</th>\n      <td>machine</td>\n      <td>0.154151</td>\n    </tr>\n    <tr>\n      <th>2</th>\n      <td>communications</td>\n      <td>1.252763</td>\n    </tr>\n    <tr>\n      <th>3</th>\n      <td>want</td>\n      <td>1.945910</td>\n    </tr>\n    <tr>\n      <th>4</th>\n      <td>based</td>\n      <td>0.154151</td>\n    </tr>\n  </tbody>\n</table>\n</div>"
     },
     "metadata": {},
     "execution_count": 15
    }
   ],
   "source": [
    "def query_TF_IDF(string):\n",
    "    ref_tokens = list(word_tokenize(string.lower()))\n",
    "    tokens = list(set(word_tokenize(string.lower())).difference(stop_words))\n",
    "    Tf_query = []\n",
    "    for i in tokens:\n",
    "        Tf_query.append(1/ref_tokens.count(i))\n",
    "    ref_IDF = IDF_calc()\n",
    "    TF_IDF = []\n",
    "    for i in range(len(tokens)):\n",
    "        if tokens[i] in terms:\n",
    "            index = terms.index(tokens[i])\n",
    "            value = ref_IDF[index]*Tf_query[i]\n",
    "            TF_IDF.append(value)\n",
    "        else:\n",
    "            TF_IDF.append(0)\n",
    "    return (tokens,TF_IDF)\n",
    "\n",
    "string = \"I want communications based on machine learning\"\n",
    "Q_TF_IDF = query_TF_IDF(string)\n",
    "pd.DataFrame({\n",
    "    \"Terms\" : Q_TF_IDF[0],\n",
    "    \"TF_IDF\" : Q_TF_IDF[1]\n",
    "})"
   ]
  },
  {
   "cell_type": "code",
   "execution_count": 16,
   "metadata": {},
   "outputs": [
    {
     "output_type": "execute_result",
     "data": {
      "text/plain": [
       "               Terms     Doc 1     Doc 2     Doc 3     Doc 4    Doc 5  \\\n",
       "0             masand  0.035399  0.000000  0.000000  0.000000  0.00000   \n",
       "1               kurt  0.011395  0.000000  0.004518  0.000000  0.00000   \n",
       "2              vol.3  0.017700  0.000000  0.000000  0.000000  0.00000   \n",
       "3       vazirgiannis  0.017700  0.000000  0.000000  0.000000  0.00000   \n",
       "4      cs.lg/0011033  0.017700  0.000000  0.000000  0.000000  0.00000   \n",
       "...              ...       ...       ...       ...       ...      ...   \n",
       "15125           roll  0.000000  0.000000  0.001506  0.000000  0.00000   \n",
       "15126         social  0.000000  0.007513  0.008494  0.006060  0.00189   \n",
       "15127         nature  0.003060  0.000000  0.003236  0.008483  0.00189   \n",
       "15128        linking  0.000000  0.000000  0.000000  0.000000  0.00000   \n",
       "15129             26  0.000000  0.001878  0.013348  0.002424  0.00189   \n",
       "\n",
       "          Doc 6  \n",
       "0      0.000000  \n",
       "1      0.000000  \n",
       "2      0.000000  \n",
       "3      0.000000  \n",
       "4      0.000000  \n",
       "...         ...  \n",
       "15125  0.008604  \n",
       "15126  0.023110  \n",
       "15127  0.006933  \n",
       "15128  0.026730  \n",
       "15129  0.002311  \n",
       "\n",
       "[15130 rows x 7 columns]"
      ],
      "text/html": "<div>\n<style scoped>\n    .dataframe tbody tr th:only-of-type {\n        vertical-align: middle;\n    }\n\n    .dataframe tbody tr th {\n        vertical-align: top;\n    }\n\n    .dataframe thead th {\n        text-align: right;\n    }\n</style>\n<table border=\"1\" class=\"dataframe\">\n  <thead>\n    <tr style=\"text-align: right;\">\n      <th></th>\n      <th>Terms</th>\n      <th>Doc 1</th>\n      <th>Doc 2</th>\n      <th>Doc 3</th>\n      <th>Doc 4</th>\n      <th>Doc 5</th>\n      <th>Doc 6</th>\n    </tr>\n  </thead>\n  <tbody>\n    <tr>\n      <th>0</th>\n      <td>masand</td>\n      <td>0.035399</td>\n      <td>0.000000</td>\n      <td>0.000000</td>\n      <td>0.000000</td>\n      <td>0.00000</td>\n      <td>0.000000</td>\n    </tr>\n    <tr>\n      <th>1</th>\n      <td>kurt</td>\n      <td>0.011395</td>\n      <td>0.000000</td>\n      <td>0.004518</td>\n      <td>0.000000</td>\n      <td>0.00000</td>\n      <td>0.000000</td>\n    </tr>\n    <tr>\n      <th>2</th>\n      <td>vol.3</td>\n      <td>0.017700</td>\n      <td>0.000000</td>\n      <td>0.000000</td>\n      <td>0.000000</td>\n      <td>0.00000</td>\n      <td>0.000000</td>\n    </tr>\n    <tr>\n      <th>3</th>\n      <td>vazirgiannis</td>\n      <td>0.017700</td>\n      <td>0.000000</td>\n      <td>0.000000</td>\n      <td>0.000000</td>\n      <td>0.00000</td>\n      <td>0.000000</td>\n    </tr>\n    <tr>\n      <th>4</th>\n      <td>cs.lg/0011033</td>\n      <td>0.017700</td>\n      <td>0.000000</td>\n      <td>0.000000</td>\n      <td>0.000000</td>\n      <td>0.00000</td>\n      <td>0.000000</td>\n    </tr>\n    <tr>\n      <th>...</th>\n      <td>...</td>\n      <td>...</td>\n      <td>...</td>\n      <td>...</td>\n      <td>...</td>\n      <td>...</td>\n      <td>...</td>\n    </tr>\n    <tr>\n      <th>15125</th>\n      <td>roll</td>\n      <td>0.000000</td>\n      <td>0.000000</td>\n      <td>0.001506</td>\n      <td>0.000000</td>\n      <td>0.00000</td>\n      <td>0.008604</td>\n    </tr>\n    <tr>\n      <th>15126</th>\n      <td>social</td>\n      <td>0.000000</td>\n      <td>0.007513</td>\n      <td>0.008494</td>\n      <td>0.006060</td>\n      <td>0.00189</td>\n      <td>0.023110</td>\n    </tr>\n    <tr>\n      <th>15127</th>\n      <td>nature</td>\n      <td>0.003060</td>\n      <td>0.000000</td>\n      <td>0.003236</td>\n      <td>0.008483</td>\n      <td>0.00189</td>\n      <td>0.006933</td>\n    </tr>\n    <tr>\n      <th>15128</th>\n      <td>linking</td>\n      <td>0.000000</td>\n      <td>0.000000</td>\n      <td>0.000000</td>\n      <td>0.000000</td>\n      <td>0.00000</td>\n      <td>0.026730</td>\n    </tr>\n    <tr>\n      <th>15129</th>\n      <td>26</td>\n      <td>0.000000</td>\n      <td>0.001878</td>\n      <td>0.013348</td>\n      <td>0.002424</td>\n      <td>0.00189</td>\n      <td>0.002311</td>\n    </tr>\n  </tbody>\n</table>\n<p>15130 rows × 7 columns</p>\n</div>"
     },
     "metadata": {},
     "execution_count": 16
    }
   ],
   "source": [
    "def normalization_Document(TF_IDF):\n",
    "    no_of_docs = len(TF_IDF)\n",
    "    for i in range(no_of_docs):\n",
    "        divider = 0\n",
    "        for j in TF_IDF[i]:\n",
    "            divider += j**2\n",
    "        divider = math.sqrt(divider)\n",
    "        TF_IDF[i] = [k/divider for k in TF_IDF[i]]\n",
    "    return TF_IDF\n",
    "\n",
    "normalized = normalization_Document(TF_IDF)\n",
    "pd.DataFrame({\n",
    "    \"Terms\" : list(terms),\n",
    "    \"Doc 1\" : normalized[0],\n",
    "    \"Doc 2\" : normalized[1],\n",
    "    \"Doc 3\" : normalized[2],\n",
    "    \"Doc 4\" : normalized[3],\n",
    "    \"Doc 5\" : normalized[4],\n",
    "    \"Doc 6\" : normalized[5],\n",
    "})"
   ]
  },
  {
   "cell_type": "code",
   "execution_count": 17,
   "metadata": {},
   "outputs": [
    {
     "output_type": "execute_result",
     "data": {
      "text/plain": [
       "            Terms    TF_IDF\n",
       "0        learning  0.028403\n",
       "1         machine  0.028403\n",
       "2  communications  0.230828\n",
       "3            want  0.358543\n",
       "4           based  0.028403"
      ],
      "text/html": "<div>\n<style scoped>\n    .dataframe tbody tr th:only-of-type {\n        vertical-align: middle;\n    }\n\n    .dataframe tbody tr th {\n        vertical-align: top;\n    }\n\n    .dataframe thead th {\n        text-align: right;\n    }\n</style>\n<table border=\"1\" class=\"dataframe\">\n  <thead>\n    <tr style=\"text-align: right;\">\n      <th></th>\n      <th>Terms</th>\n      <th>TF_IDF</th>\n    </tr>\n  </thead>\n  <tbody>\n    <tr>\n      <th>0</th>\n      <td>learning</td>\n      <td>0.028403</td>\n    </tr>\n    <tr>\n      <th>1</th>\n      <td>machine</td>\n      <td>0.028403</td>\n    </tr>\n    <tr>\n      <th>2</th>\n      <td>communications</td>\n      <td>0.230828</td>\n    </tr>\n    <tr>\n      <th>3</th>\n      <td>want</td>\n      <td>0.358543</td>\n    </tr>\n    <tr>\n      <th>4</th>\n      <td>based</td>\n      <td>0.028403</td>\n    </tr>\n  </tbody>\n</table>\n</div>"
     },
     "metadata": {},
     "execution_count": 17
    }
   ],
   "source": [
    "def normalization_Query(string):\n",
    "    TF_IDF = query_TF_IDF(string)[1]\n",
    "    divider = 0\n",
    "    for i in TF_IDF:\n",
    "        divider += i**2\n",
    "    TF_IDF = [i/divider for i in TF_IDF]\n",
    "    return TF_IDF\n",
    "\n",
    "pd.DataFrame({\n",
    "    \"Terms\" : query_TF_IDF(string)[0],\n",
    "    \"TF_IDF\" : normalization_Query(string)\n",
    "})"
   ]
  },
  {
   "cell_type": "code",
   "execution_count": 19,
   "metadata": {},
   "outputs": [
    {
     "output_type": "stream",
     "name": "stdout",
     "text": [
      "[0.0011650218336673745, 0.0022486810402766876, 0.0012770095255518572, 0.007916587483100508, 0.0016481390137395892, 0.000661575832315287]\n"
     ]
    }
   ],
   "source": [
    "def cosine_dist():\n",
    "    TF_IDF_doc = normalization_Document(TF_IDF)\n",
    "    TF_IDF_query = normalization_Query(string)\n",
    "    tokens = Q_TF_IDF[0]\n",
    "    index_ls = []\n",
    "    for i in tokens:\n",
    "        index_ls.append(terms.index(i))\n",
    "\n",
    "    cosine_rec = []\n",
    "    for i in range(len(TF_IDF_doc)):\n",
    "        cosine_dist = 0\n",
    "        index = 0\n",
    "        for j in index_ls:\n",
    "            cosine_dist += TF_IDF_doc[i][j]* TF_IDF_query[index]\n",
    "        cosine_rec.append(cosine_dist)\n",
    "    return cosine_rec\n",
    "\n",
    "print(cosine_dist())"
   ]
  },
  {
   "cell_type": "code",
   "execution_count": null,
   "metadata": {},
   "outputs": [],
   "source": []
  }
 ]
}