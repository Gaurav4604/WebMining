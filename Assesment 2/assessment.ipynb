{
 "metadata": {
  "language_info": {
   "codemirror_mode": {
    "name": "ipython",
    "version": 3
   },
   "file_extension": ".py",
   "mimetype": "text/x-python",
   "name": "python",
   "nbconvert_exporter": "python",
   "pygments_lexer": "ipython3",
   "version": "3.6.5-final"
  },
  "orig_nbformat": 2,
  "kernelspec": {
   "name": "virtualenv",
   "display_name": "virtualEnv",
   "language": "python"
  }
 },
 "nbformat": 4,
 "nbformat_minor": 2,
 "cells": [
  {
   "cell_type": "code",
   "execution_count": 1,
   "metadata": {
    "tags": []
   },
   "outputs": [],
   "source": [
    "# bfs concurrency\n",
    "import requests\n",
    "from bs4 import BeautifulSoup\n",
    "from collections import deque\n",
    "import re\n",
    "import threading\n",
    "\n",
    "def bfs(url):\n",
    "    visited = set([url])\n",
    "    dq = deque([[url, \"\", 0]])\n",
    "    max_depth = 3\n",
    "    max_breadth = 5\n",
    "    string = \"\"\n",
    "    while dq:\n",
    "        base, path, depth = dq.popleft()\n",
    "        if depth < max_depth:\n",
    "            try:\n",
    "                soup = BeautifulSoup(requests.get(base + path).text, \"html.parser\")\n",
    "                links = soup.find_all(\"a\")[:max_breadth]\n",
    "                for link in links:\n",
    "                    href = link.get(\"href\")\n",
    "                    if href not in visited:\n",
    "                        visited.add(href)\n",
    "                        string += (\"  \" * depth + f\"at depth {depth}: {href}\\n\")\n",
    "\n",
    "                        if href.startswith(\"http\") or href.startswith(\"https\"):\n",
    "                            dq.append([href, \"\", depth + 1])\n",
    "                        else:\n",
    "                            dq.append([base, href, depth + 1])\n",
    "            except:\n",
    "                pass\n",
    "\n",
    "    filename =\"\"\n",
    "    if \"https://\" in url:\n",
    "        filename = re.sub(r\"https://\",\"\",url)\n",
    "        filename = re.sub(r\".com\",\"\",filename)\n",
    "    elif \"http://\" in url:\n",
    "        filename = re.sub(r\"http://\",\"\",url)\n",
    "        filename = re.sub(r\".com\",\"\",filename)\n",
    "\n",
    "    file  = open(\"crawled_links/\"+filename+\".txt\",\"w\")\n",
    "    file.write(string)\n",
    "    file.close()"
   ]
  },
  {
   "cell_type": "code",
   "execution_count": 2,
   "metadata": {},
   "outputs": [
    {
     "output_type": "stream",
     "name": "stdout",
     "text": [
      "files made!\n"
     ]
    }
   ],
   "source": [
    "frontier = [\"http://toscrape.com\", \"https://soundcloud.com\", \"http://reddit.com\", \"https://fc2.com\"]\n",
    "\n",
    "def threadCreater(frontier):\n",
    "    threads = []\n",
    "    for i in frontier:\n",
    "        t = threading.Thread(target = bfs, args=(i,))\n",
    "        threads.append(t)\n",
    "    return threads\n",
    "\n",
    "threads = threadCreater(frontier)\n",
    "for i in threads:\n",
    "    i.start()\n",
    "for i in threads:\n",
    "    i.join()\n",
    "print(\"files made!\")"
   ]
  },
  {
   "cell_type": "code",
   "execution_count": 3,
   "metadata": {},
   "outputs": [
    {
     "output_type": "stream",
     "name": "stdout",
     "text": [
      "000011010\n000011011\n"
     ]
    }
   ],
   "source": [
    "import math\n",
    "\n",
    "def unary(x):\n",
    "    return '0'*(x-1)+'1'\n",
    "\n",
    "def encoder(x, b):\n",
    "    q = math.floor(x/b)\n",
    "    q_encode = unary(q+1)\n",
    "    i = math.floor(math.log2(b))\n",
    "    d = int(2**(i+1))-b\n",
    "    r = x%b\n",
    "    rem = \"\"\n",
    "    if r < d:\n",
    "        rem = bin(r)[2:]\n",
    "        l = len(rem)\n",
    "        if l < i:\n",
    "            rem = '0'*(i - l)+rem\n",
    "    else:\n",
    "        rem = bin(r + d)[2:]\n",
    "        l = len(rem)\n",
    "        if l < i+1:\n",
    "            rem = '0'*(i+1-l) + rem\n",
    "    return q_encode+rem\n",
    "\n",
    "print(encoder(74, 16))\n",
    "print(encoder(50, 11))"
   ]
  },
  {
   "cell_type": "code",
   "execution_count": 4,
   "metadata": {},
   "outputs": [
    {
     "output_type": "stream",
     "name": "stdout",
     "text": [
      "9\n"
     ]
    }
   ],
   "source": [
    "def decode(n, M):\n",
    "    q=len(n.split('1')[0])\n",
    "    b=math.floor(math.log2(M))\n",
    "    k = 2**(b+1)-M\n",
    "    r = int(n[q+1:q+1+b],2)\n",
    "    if r>=k:\n",
    "        r = int(n[q+1:q+1+b+1],2)\n",
    "        r=r-k\n",
    "    x=q*M+r\n",
    "    return x\n",
    "\n",
    "print(decode(\"1111111110010001101\", 10))"
   ]
  },
  {
   "cell_type": "code",
   "execution_count": 5,
   "metadata": {},
   "outputs": [
    {
     "output_type": "execute_result",
     "data": {
      "text/plain": [
       "              Terms  Doc 1  Doc 2  Doc 3  Doc 4  Doc 5  Doc 6\n",
       "0        algorithms      5     13     23     56     12      3\n",
       "1      demonstrated      1      0      3      0      0      2\n",
       "2        statistics      2      9      6     19      3      1\n",
       "3             trend      2      0      0      0      0      0\n",
       "4            points      1      0      1      1      0      2\n",
       "...             ...    ...    ...    ...    ...    ...    ...\n",
       "15125        sanger      0      1      0      0      0      2\n",
       "15126    university      0      4     22      6      5      9\n",
       "15127         email      0      0      1      3      0      2\n",
       "15128   traditional      2      0      4      1      0      1\n",
       "15129          3–10      0      0      0      0      0      1\n",
       "\n",
       "[15130 rows x 7 columns]"
      ],
      "text/html": "<div>\n<style scoped>\n    .dataframe tbody tr th:only-of-type {\n        vertical-align: middle;\n    }\n\n    .dataframe tbody tr th {\n        vertical-align: top;\n    }\n\n    .dataframe thead th {\n        text-align: right;\n    }\n</style>\n<table border=\"1\" class=\"dataframe\">\n  <thead>\n    <tr style=\"text-align: right;\">\n      <th></th>\n      <th>Terms</th>\n      <th>Doc 1</th>\n      <th>Doc 2</th>\n      <th>Doc 3</th>\n      <th>Doc 4</th>\n      <th>Doc 5</th>\n      <th>Doc 6</th>\n    </tr>\n  </thead>\n  <tbody>\n    <tr>\n      <th>0</th>\n      <td>algorithms</td>\n      <td>5</td>\n      <td>13</td>\n      <td>23</td>\n      <td>56</td>\n      <td>12</td>\n      <td>3</td>\n    </tr>\n    <tr>\n      <th>1</th>\n      <td>demonstrated</td>\n      <td>1</td>\n      <td>0</td>\n      <td>3</td>\n      <td>0</td>\n      <td>0</td>\n      <td>2</td>\n    </tr>\n    <tr>\n      <th>2</th>\n      <td>statistics</td>\n      <td>2</td>\n      <td>9</td>\n      <td>6</td>\n      <td>19</td>\n      <td>3</td>\n      <td>1</td>\n    </tr>\n    <tr>\n      <th>3</th>\n      <td>trend</td>\n      <td>2</td>\n      <td>0</td>\n      <td>0</td>\n      <td>0</td>\n      <td>0</td>\n      <td>0</td>\n    </tr>\n    <tr>\n      <th>4</th>\n      <td>points</td>\n      <td>1</td>\n      <td>0</td>\n      <td>1</td>\n      <td>1</td>\n      <td>0</td>\n      <td>2</td>\n    </tr>\n    <tr>\n      <th>...</th>\n      <td>...</td>\n      <td>...</td>\n      <td>...</td>\n      <td>...</td>\n      <td>...</td>\n      <td>...</td>\n      <td>...</td>\n    </tr>\n    <tr>\n      <th>15125</th>\n      <td>sanger</td>\n      <td>0</td>\n      <td>1</td>\n      <td>0</td>\n      <td>0</td>\n      <td>0</td>\n      <td>2</td>\n    </tr>\n    <tr>\n      <th>15126</th>\n      <td>university</td>\n      <td>0</td>\n      <td>4</td>\n      <td>22</td>\n      <td>6</td>\n      <td>5</td>\n      <td>9</td>\n    </tr>\n    <tr>\n      <th>15127</th>\n      <td>email</td>\n      <td>0</td>\n      <td>0</td>\n      <td>1</td>\n      <td>3</td>\n      <td>0</td>\n      <td>2</td>\n    </tr>\n    <tr>\n      <th>15128</th>\n      <td>traditional</td>\n      <td>2</td>\n      <td>0</td>\n      <td>4</td>\n      <td>1</td>\n      <td>0</td>\n      <td>1</td>\n    </tr>\n    <tr>\n      <th>15129</th>\n      <td>3–10</td>\n      <td>0</td>\n      <td>0</td>\n      <td>0</td>\n      <td>0</td>\n      <td>0</td>\n      <td>1</td>\n    </tr>\n  </tbody>\n</table>\n<p>15130 rows × 7 columns</p>\n</div>"
     },
     "metadata": {},
     "execution_count": 5
    }
   ],
   "source": [
    "# Q4\n",
    "from nltk.tokenize import word_tokenize\n",
    "from spacy.lang.en.stop_words import STOP_WORDS\n",
    "from functools import reduce\n",
    "from urllib import request\n",
    "import pandas as pd\n",
    "\n",
    "stop_words = set(STOP_WORDS)\n",
    "stop_words = stop_words.union({'.',',','\\'','\\\"','?','{','}','[',']','<','>','(',')','!'})\n",
    "\n",
    "def extract(url):\n",
    "    html = request.urlopen(url).read().decode('utf8')\n",
    "    string = BeautifulSoup(html, 'html.parser').get_text().lower()\n",
    "    return list(word_tokenize(string))\n",
    "\n",
    "def store(name, ls):\n",
    "    with open(name,'w') as f:\n",
    "        for item in list(ls):\n",
    "            try:\n",
    "                f.write('%s\\n'%item)\n",
    "            except:\n",
    "                pass\n",
    "def term_maker(ls, filenames):\n",
    "    terms = []\n",
    "    index = 0\n",
    "    for i in ls:\n",
    "        st = set(i).difference(stop_words)\n",
    "        store('extracted_content/'+filenames[index]+'.txt', list(st))\n",
    "        index += 1\n",
    "        terms.append(list(st))\n",
    "    terms = reduce(lambda z,y : z+y, terms)\n",
    "    return terms\n",
    "\n",
    "def counter(tokens, terms):\n",
    "    ls = []\n",
    "    for i in terms:\n",
    "        ls.append(tokens.count(i))\n",
    "    return ls\n",
    "\n",
    "base = 'https://en.wikipedia.org/wiki/'\n",
    "links = ['Web_mining','Data_mining','Artificial_intelligence','Machine_learning','Natural_language_processing','Text_mining']\n",
    "token_list = []\n",
    "for i in links:\n",
    "    token_list.append(extract(base+i))\n",
    "terms = term_maker(token_list, links)\n",
    "bagOfWords = []\n",
    "for i in token_list:\n",
    "    bagOfWords.append(counter(i,terms))\n",
    "\n",
    "pd.DataFrame({\n",
    "    \"Terms\" : list(terms),\n",
    "    \"Doc 1\" : bagOfWords[0],     \n",
    "    \"Doc 2\" : bagOfWords[1],     \n",
    "    \"Doc 3\" : bagOfWords[2],     \n",
    "    \"Doc 4\" : bagOfWords[3],     \n",
    "    \"Doc 5\" : bagOfWords[4],     \n",
    "    \"Doc 6\" : bagOfWords[5]    \n",
    "})"
   ]
  },
  {
   "cell_type": "code",
   "execution_count": 6,
   "metadata": {},
   "outputs": [
    {
     "output_type": "execute_result",
     "data": {
      "text/plain": [
       "              Terms     Doc 1     Doc 2     Doc 3     Doc 4     Doc 5  \\\n",
       "0        algorithms  0.001440  0.002295  0.002095  0.007223  0.002234   \n",
       "1      demonstrated  0.000288  0.000000  0.000273  0.000000  0.000000   \n",
       "2        statistics  0.000576  0.001589  0.000547  0.002451  0.000559   \n",
       "3             trend  0.000576  0.000000  0.000000  0.000000  0.000000   \n",
       "4            points  0.000288  0.000000  0.000091  0.000129  0.000000   \n",
       "...             ...       ...       ...       ...       ...       ...   \n",
       "15125        sanger  0.000000  0.000177  0.000000  0.000000  0.000000   \n",
       "15126    university  0.000000  0.000706  0.002004  0.000774  0.000931   \n",
       "15127         email  0.000000  0.000000  0.000091  0.000387  0.000000   \n",
       "15128   traditional  0.000576  0.000000  0.000364  0.000129  0.000000   \n",
       "15129          3–10  0.000000  0.000000  0.000000  0.000000  0.000000   \n",
       "\n",
       "          Doc 6  \n",
       "0      0.000581  \n",
       "1      0.000387  \n",
       "2      0.000194  \n",
       "3      0.000000  \n",
       "4      0.000387  \n",
       "...         ...  \n",
       "15125  0.000387  \n",
       "15126  0.001744  \n",
       "15127  0.000387  \n",
       "15128  0.000194  \n",
       "15129  0.000194  \n",
       "\n",
       "[15130 rows x 7 columns]"
      ],
      "text/html": "<div>\n<style scoped>\n    .dataframe tbody tr th:only-of-type {\n        vertical-align: middle;\n    }\n\n    .dataframe tbody tr th {\n        vertical-align: top;\n    }\n\n    .dataframe thead th {\n        text-align: right;\n    }\n</style>\n<table border=\"1\" class=\"dataframe\">\n  <thead>\n    <tr style=\"text-align: right;\">\n      <th></th>\n      <th>Terms</th>\n      <th>Doc 1</th>\n      <th>Doc 2</th>\n      <th>Doc 3</th>\n      <th>Doc 4</th>\n      <th>Doc 5</th>\n      <th>Doc 6</th>\n    </tr>\n  </thead>\n  <tbody>\n    <tr>\n      <th>0</th>\n      <td>algorithms</td>\n      <td>0.001440</td>\n      <td>0.002295</td>\n      <td>0.002095</td>\n      <td>0.007223</td>\n      <td>0.002234</td>\n      <td>0.000581</td>\n    </tr>\n    <tr>\n      <th>1</th>\n      <td>demonstrated</td>\n      <td>0.000288</td>\n      <td>0.000000</td>\n      <td>0.000273</td>\n      <td>0.000000</td>\n      <td>0.000000</td>\n      <td>0.000387</td>\n    </tr>\n    <tr>\n      <th>2</th>\n      <td>statistics</td>\n      <td>0.000576</td>\n      <td>0.001589</td>\n      <td>0.000547</td>\n      <td>0.002451</td>\n      <td>0.000559</td>\n      <td>0.000194</td>\n    </tr>\n    <tr>\n      <th>3</th>\n      <td>trend</td>\n      <td>0.000576</td>\n      <td>0.000000</td>\n      <td>0.000000</td>\n      <td>0.000000</td>\n      <td>0.000000</td>\n      <td>0.000000</td>\n    </tr>\n    <tr>\n      <th>4</th>\n      <td>points</td>\n      <td>0.000288</td>\n      <td>0.000000</td>\n      <td>0.000091</td>\n      <td>0.000129</td>\n      <td>0.000000</td>\n      <td>0.000387</td>\n    </tr>\n    <tr>\n      <th>...</th>\n      <td>...</td>\n      <td>...</td>\n      <td>...</td>\n      <td>...</td>\n      <td>...</td>\n      <td>...</td>\n      <td>...</td>\n    </tr>\n    <tr>\n      <th>15125</th>\n      <td>sanger</td>\n      <td>0.000000</td>\n      <td>0.000177</td>\n      <td>0.000000</td>\n      <td>0.000000</td>\n      <td>0.000000</td>\n      <td>0.000387</td>\n    </tr>\n    <tr>\n      <th>15126</th>\n      <td>university</td>\n      <td>0.000000</td>\n      <td>0.000706</td>\n      <td>0.002004</td>\n      <td>0.000774</td>\n      <td>0.000931</td>\n      <td>0.001744</td>\n    </tr>\n    <tr>\n      <th>15127</th>\n      <td>email</td>\n      <td>0.000000</td>\n      <td>0.000000</td>\n      <td>0.000091</td>\n      <td>0.000387</td>\n      <td>0.000000</td>\n      <td>0.000387</td>\n    </tr>\n    <tr>\n      <th>15128</th>\n      <td>traditional</td>\n      <td>0.000576</td>\n      <td>0.000000</td>\n      <td>0.000364</td>\n      <td>0.000129</td>\n      <td>0.000000</td>\n      <td>0.000194</td>\n    </tr>\n    <tr>\n      <th>15129</th>\n      <td>3–10</td>\n      <td>0.000000</td>\n      <td>0.000000</td>\n      <td>0.000000</td>\n      <td>0.000000</td>\n      <td>0.000000</td>\n      <td>0.000194</td>\n    </tr>\n  </tbody>\n</table>\n<p>15130 rows × 7 columns</p>\n</div>"
     },
     "metadata": {},
     "execution_count": 6
    }
   ],
   "source": [
    "def total(ls):\n",
    "    count=0\n",
    "    for i in ls:\n",
    "        if i != 0:\n",
    "            count+=1\n",
    "    return count\n",
    "\n",
    "TF = [[number/total(i) for number in i] for i in bagOfWords]\n",
    "pd.DataFrame({\n",
    "    \"Terms\" : list(terms),\n",
    "    \"Doc 1\" : TF[0],     \n",
    "    \"Doc 2\" : TF[1],     \n",
    "    \"Doc 3\" : TF[2],     \n",
    "    \"Doc 4\" : TF[3],     \n",
    "    \"Doc 5\" : TF[4],     \n",
    "    \"Doc 6\" : TF[5]    \n",
    "})"
   ]
  },
  {
   "cell_type": "code",
   "execution_count": 7,
   "metadata": {
    "tags": []
   },
   "outputs": [
    {
     "output_type": "execute_result",
     "data": {
      "text/plain": [
       "              Terms  IDF value\n",
       "0        algorithms   0.154151\n",
       "1      demonstrated   0.847298\n",
       "2        statistics   0.154151\n",
       "3             trend   1.945910\n",
       "4            points   0.559616\n",
       "...             ...        ...\n",
       "15125        sanger   1.252763\n",
       "15126    university   0.336472\n",
       "15127         email   0.847298\n",
       "15128   traditional   0.559616\n",
       "15129          3–10   1.945910\n",
       "\n",
       "[15130 rows x 2 columns]"
      ],
      "text/html": "<div>\n<style scoped>\n    .dataframe tbody tr th:only-of-type {\n        vertical-align: middle;\n    }\n\n    .dataframe tbody tr th {\n        vertical-align: top;\n    }\n\n    .dataframe thead th {\n        text-align: right;\n    }\n</style>\n<table border=\"1\" class=\"dataframe\">\n  <thead>\n    <tr style=\"text-align: right;\">\n      <th></th>\n      <th>Terms</th>\n      <th>IDF value</th>\n    </tr>\n  </thead>\n  <tbody>\n    <tr>\n      <th>0</th>\n      <td>algorithms</td>\n      <td>0.154151</td>\n    </tr>\n    <tr>\n      <th>1</th>\n      <td>demonstrated</td>\n      <td>0.847298</td>\n    </tr>\n    <tr>\n      <th>2</th>\n      <td>statistics</td>\n      <td>0.154151</td>\n    </tr>\n    <tr>\n      <th>3</th>\n      <td>trend</td>\n      <td>1.945910</td>\n    </tr>\n    <tr>\n      <th>4</th>\n      <td>points</td>\n      <td>0.559616</td>\n    </tr>\n    <tr>\n      <th>...</th>\n      <td>...</td>\n      <td>...</td>\n    </tr>\n    <tr>\n      <th>15125</th>\n      <td>sanger</td>\n      <td>1.252763</td>\n    </tr>\n    <tr>\n      <th>15126</th>\n      <td>university</td>\n      <td>0.336472</td>\n    </tr>\n    <tr>\n      <th>15127</th>\n      <td>email</td>\n      <td>0.847298</td>\n    </tr>\n    <tr>\n      <th>15128</th>\n      <td>traditional</td>\n      <td>0.559616</td>\n    </tr>\n    <tr>\n      <th>15129</th>\n      <td>3–10</td>\n      <td>1.945910</td>\n    </tr>\n  </tbody>\n</table>\n<p>15130 rows × 2 columns</p>\n</div>"
     },
     "metadata": {},
     "execution_count": 7
    }
   ],
   "source": [
    "import math\n",
    "def IDF_helper(ls):\n",
    "    total = []\n",
    "    length = len(ls[0])\n",
    "    for i in range(length):\n",
    "        count = 0\n",
    "        for j in range(len(ls)):\n",
    "            value = ls[j][i]\n",
    "            if value != 0:\n",
    "                count += 1\n",
    "        total.append(count)\n",
    "    return total\n",
    "\n",
    "def IDF_calc():\n",
    "    helper = IDF_helper(bagOfWords)\n",
    "    no_of_doc = 6\n",
    "    IDF_ls = []\n",
    "    for i in helper:\n",
    "        IDF_ls.append(math.log((1+no_of_doc)/i))\n",
    "    return IDF_ls\n",
    "pd.DataFrame({\n",
    "    \"Terms\" : list(terms),\n",
    "    \"IDF value\" : IDF_calc()\n",
    "})"
   ]
  },
  {
   "cell_type": "code",
   "execution_count": 8,
   "metadata": {},
   "outputs": [
    {
     "output_type": "execute_result",
     "data": {
      "text/plain": [
       "              Terms     Doc 1     Doc 2     Doc 3     Doc 4     Doc 5  \\\n",
       "0        algorithms  0.000222  0.000354  0.000323  0.001113  0.000344   \n",
       "1      demonstrated  0.000244  0.000000  0.000232  0.000000  0.000000   \n",
       "2        statistics  0.000089  0.000245  0.000084  0.000378  0.000086   \n",
       "3             trend  0.001121  0.000000  0.000000  0.000000  0.000000   \n",
       "4            points  0.000161  0.000000  0.000051  0.000072  0.000000   \n",
       "...             ...       ...       ...       ...       ...       ...   \n",
       "15125        sanger  0.000000  0.000221  0.000000  0.000000  0.000000   \n",
       "15126    university  0.000000  0.000238  0.000674  0.000260  0.000313   \n",
       "15127         email  0.000000  0.000000  0.000077  0.000328  0.000000   \n",
       "15128   traditional  0.000322  0.000000  0.000204  0.000072  0.000000   \n",
       "15129          3–10  0.000000  0.000000  0.000000  0.000000  0.000000   \n",
       "\n",
       "          Doc 6  \n",
       "0      0.000090  \n",
       "1      0.000328  \n",
       "2      0.000030  \n",
       "3      0.000000  \n",
       "4      0.000217  \n",
       "...         ...  \n",
       "15125  0.000485  \n",
       "15126  0.000587  \n",
       "15127  0.000328  \n",
       "15128  0.000108  \n",
       "15129  0.000377  \n",
       "\n",
       "[15130 rows x 7 columns]"
      ],
      "text/html": "<div>\n<style scoped>\n    .dataframe tbody tr th:only-of-type {\n        vertical-align: middle;\n    }\n\n    .dataframe tbody tr th {\n        vertical-align: top;\n    }\n\n    .dataframe thead th {\n        text-align: right;\n    }\n</style>\n<table border=\"1\" class=\"dataframe\">\n  <thead>\n    <tr style=\"text-align: right;\">\n      <th></th>\n      <th>Terms</th>\n      <th>Doc 1</th>\n      <th>Doc 2</th>\n      <th>Doc 3</th>\n      <th>Doc 4</th>\n      <th>Doc 5</th>\n      <th>Doc 6</th>\n    </tr>\n  </thead>\n  <tbody>\n    <tr>\n      <th>0</th>\n      <td>algorithms</td>\n      <td>0.000222</td>\n      <td>0.000354</td>\n      <td>0.000323</td>\n      <td>0.001113</td>\n      <td>0.000344</td>\n      <td>0.000090</td>\n    </tr>\n    <tr>\n      <th>1</th>\n      <td>demonstrated</td>\n      <td>0.000244</td>\n      <td>0.000000</td>\n      <td>0.000232</td>\n      <td>0.000000</td>\n      <td>0.000000</td>\n      <td>0.000328</td>\n    </tr>\n    <tr>\n      <th>2</th>\n      <td>statistics</td>\n      <td>0.000089</td>\n      <td>0.000245</td>\n      <td>0.000084</td>\n      <td>0.000378</td>\n      <td>0.000086</td>\n      <td>0.000030</td>\n    </tr>\n    <tr>\n      <th>3</th>\n      <td>trend</td>\n      <td>0.001121</td>\n      <td>0.000000</td>\n      <td>0.000000</td>\n      <td>0.000000</td>\n      <td>0.000000</td>\n      <td>0.000000</td>\n    </tr>\n    <tr>\n      <th>4</th>\n      <td>points</td>\n      <td>0.000161</td>\n      <td>0.000000</td>\n      <td>0.000051</td>\n      <td>0.000072</td>\n      <td>0.000000</td>\n      <td>0.000217</td>\n    </tr>\n    <tr>\n      <th>...</th>\n      <td>...</td>\n      <td>...</td>\n      <td>...</td>\n      <td>...</td>\n      <td>...</td>\n      <td>...</td>\n      <td>...</td>\n    </tr>\n    <tr>\n      <th>15125</th>\n      <td>sanger</td>\n      <td>0.000000</td>\n      <td>0.000221</td>\n      <td>0.000000</td>\n      <td>0.000000</td>\n      <td>0.000000</td>\n      <td>0.000485</td>\n    </tr>\n    <tr>\n      <th>15126</th>\n      <td>university</td>\n      <td>0.000000</td>\n      <td>0.000238</td>\n      <td>0.000674</td>\n      <td>0.000260</td>\n      <td>0.000313</td>\n      <td>0.000587</td>\n    </tr>\n    <tr>\n      <th>15127</th>\n      <td>email</td>\n      <td>0.000000</td>\n      <td>0.000000</td>\n      <td>0.000077</td>\n      <td>0.000328</td>\n      <td>0.000000</td>\n      <td>0.000328</td>\n    </tr>\n    <tr>\n      <th>15128</th>\n      <td>traditional</td>\n      <td>0.000322</td>\n      <td>0.000000</td>\n      <td>0.000204</td>\n      <td>0.000072</td>\n      <td>0.000000</td>\n      <td>0.000108</td>\n    </tr>\n    <tr>\n      <th>15129</th>\n      <td>3–10</td>\n      <td>0.000000</td>\n      <td>0.000000</td>\n      <td>0.000000</td>\n      <td>0.000000</td>\n      <td>0.000000</td>\n      <td>0.000377</td>\n    </tr>\n  </tbody>\n</table>\n<p>15130 rows × 7 columns</p>\n</div>"
     },
     "metadata": {},
     "execution_count": 8
    }
   ],
   "source": [
    "def TF_IDF_calc(ls):\n",
    "    IDF = IDF_calc()\n",
    "    for i in range(len(ls[0])):\n",
    "        for j in range(6):\n",
    "                ls[j][i]*=IDF[i]\n",
    "    return ls\n",
    "TF_IDF = TF_IDF_calc(TF)\n",
    "pd.DataFrame({\n",
    "    \"Terms\" : list(terms),\n",
    "    \"Doc 1\" : TF_IDF[0],\n",
    "    \"Doc 2\" : TF_IDF[1],\n",
    "    \"Doc 3\" : TF_IDF[2],\n",
    "    \"Doc 4\" : TF_IDF[3],\n",
    "    \"Doc 5\" : TF_IDF[4],\n",
    "    \"Doc 6\" : TF_IDF[5]\n",
    "})"
   ]
  },
  {
   "cell_type": "code",
   "execution_count": 9,
   "metadata": {},
   "outputs": [
    {
     "output_type": "execute_result",
     "data": {
      "text/plain": [
       "            Terms    TF_IDF\n",
       "0  communications  1.252763\n",
       "1        learning  0.154151\n",
       "2            want  1.945910\n",
       "3         machine  0.154151\n",
       "4           based  0.154151"
      ],
      "text/html": "<div>\n<style scoped>\n    .dataframe tbody tr th:only-of-type {\n        vertical-align: middle;\n    }\n\n    .dataframe tbody tr th {\n        vertical-align: top;\n    }\n\n    .dataframe thead th {\n        text-align: right;\n    }\n</style>\n<table border=\"1\" class=\"dataframe\">\n  <thead>\n    <tr style=\"text-align: right;\">\n      <th></th>\n      <th>Terms</th>\n      <th>TF_IDF</th>\n    </tr>\n  </thead>\n  <tbody>\n    <tr>\n      <th>0</th>\n      <td>communications</td>\n      <td>1.252763</td>\n    </tr>\n    <tr>\n      <th>1</th>\n      <td>learning</td>\n      <td>0.154151</td>\n    </tr>\n    <tr>\n      <th>2</th>\n      <td>want</td>\n      <td>1.945910</td>\n    </tr>\n    <tr>\n      <th>3</th>\n      <td>machine</td>\n      <td>0.154151</td>\n    </tr>\n    <tr>\n      <th>4</th>\n      <td>based</td>\n      <td>0.154151</td>\n    </tr>\n  </tbody>\n</table>\n</div>"
     },
     "metadata": {},
     "execution_count": 9
    }
   ],
   "source": [
    "def query_TF_IDF(string):\n",
    "    ref_tokens = list(word_tokenize(string.lower()))\n",
    "    tokens = list(set(word_tokenize(string.lower())).difference(stop_words))\n",
    "    Tf_query = []\n",
    "    for i in tokens:\n",
    "        Tf_query.append(1/ref_tokens.count(i))\n",
    "    ref_IDF = IDF_calc()\n",
    "    TF_IDF = []\n",
    "    for i in range(len(tokens)):\n",
    "        if tokens[i] in terms:\n",
    "            index = terms.index(tokens[i])\n",
    "            value = ref_IDF[index]*Tf_query[i]\n",
    "            TF_IDF.append(value)\n",
    "        else:\n",
    "            TF_IDF.append(0)\n",
    "    return (tokens,TF_IDF)\n",
    "\n",
    "string = \"I want communications based on machine learning\"\n",
    "Q_TF_IDF = query_TF_IDF(string)\n",
    "pd.DataFrame({\n",
    "    \"Terms\" : Q_TF_IDF[0],\n",
    "    \"TF_IDF\" : Q_TF_IDF[1]\n",
    "})"
   ]
  },
  {
   "cell_type": "code",
   "execution_count": 10,
   "metadata": {},
   "outputs": [
    {
     "output_type": "execute_result",
     "data": {
      "text/plain": [
       "              Terms     Doc 1     Doc 2     Doc 3     Doc 4     Doc 5  \\\n",
       "0        algorithms  0.007011  0.011187  0.004262  0.031093  0.010393   \n",
       "1      demonstrated  0.007707  0.000000  0.003056  0.000000  0.000000   \n",
       "2        statistics  0.002804  0.007745  0.001112  0.010549  0.002598   \n",
       "3             trend  0.035399  0.000000  0.000000  0.000000  0.000000   \n",
       "4            points  0.005090  0.000000  0.000673  0.002016  0.000000   \n",
       "...             ...       ...       ...       ...       ...       ...   \n",
       "15125        sanger  0.000000  0.006994  0.000000  0.000000  0.000000   \n",
       "15126    university  0.000000  0.007513  0.008898  0.007272  0.009452   \n",
       "15127         email  0.000000  0.000000  0.001019  0.009156  0.000000   \n",
       "15128   traditional  0.010180  0.000000  0.002691  0.002016  0.000000   \n",
       "15129          3–10  0.000000  0.000000  0.000000  0.000000  0.000000   \n",
       "\n",
       "          Doc 6  \n",
       "0      0.003176  \n",
       "1      0.011639  \n",
       "2      0.001059  \n",
       "3      0.000000  \n",
       "4      0.007687  \n",
       "...         ...  \n",
       "15125  0.017209  \n",
       "15126  0.020799  \n",
       "15127  0.011639  \n",
       "15128  0.003844  \n",
       "15129  0.013365  \n",
       "\n",
       "[15130 rows x 7 columns]"
      ],
      "text/html": "<div>\n<style scoped>\n    .dataframe tbody tr th:only-of-type {\n        vertical-align: middle;\n    }\n\n    .dataframe tbody tr th {\n        vertical-align: top;\n    }\n\n    .dataframe thead th {\n        text-align: right;\n    }\n</style>\n<table border=\"1\" class=\"dataframe\">\n  <thead>\n    <tr style=\"text-align: right;\">\n      <th></th>\n      <th>Terms</th>\n      <th>Doc 1</th>\n      <th>Doc 2</th>\n      <th>Doc 3</th>\n      <th>Doc 4</th>\n      <th>Doc 5</th>\n      <th>Doc 6</th>\n    </tr>\n  </thead>\n  <tbody>\n    <tr>\n      <th>0</th>\n      <td>algorithms</td>\n      <td>0.007011</td>\n      <td>0.011187</td>\n      <td>0.004262</td>\n      <td>0.031093</td>\n      <td>0.010393</td>\n      <td>0.003176</td>\n    </tr>\n    <tr>\n      <th>1</th>\n      <td>demonstrated</td>\n      <td>0.007707</td>\n      <td>0.000000</td>\n      <td>0.003056</td>\n      <td>0.000000</td>\n      <td>0.000000</td>\n      <td>0.011639</td>\n    </tr>\n    <tr>\n      <th>2</th>\n      <td>statistics</td>\n      <td>0.002804</td>\n      <td>0.007745</td>\n      <td>0.001112</td>\n      <td>0.010549</td>\n      <td>0.002598</td>\n      <td>0.001059</td>\n    </tr>\n    <tr>\n      <th>3</th>\n      <td>trend</td>\n      <td>0.035399</td>\n      <td>0.000000</td>\n      <td>0.000000</td>\n      <td>0.000000</td>\n      <td>0.000000</td>\n      <td>0.000000</td>\n    </tr>\n    <tr>\n      <th>4</th>\n      <td>points</td>\n      <td>0.005090</td>\n      <td>0.000000</td>\n      <td>0.000673</td>\n      <td>0.002016</td>\n      <td>0.000000</td>\n      <td>0.007687</td>\n    </tr>\n    <tr>\n      <th>...</th>\n      <td>...</td>\n      <td>...</td>\n      <td>...</td>\n      <td>...</td>\n      <td>...</td>\n      <td>...</td>\n      <td>...</td>\n    </tr>\n    <tr>\n      <th>15125</th>\n      <td>sanger</td>\n      <td>0.000000</td>\n      <td>0.006994</td>\n      <td>0.000000</td>\n      <td>0.000000</td>\n      <td>0.000000</td>\n      <td>0.017209</td>\n    </tr>\n    <tr>\n      <th>15126</th>\n      <td>university</td>\n      <td>0.000000</td>\n      <td>0.007513</td>\n      <td>0.008898</td>\n      <td>0.007272</td>\n      <td>0.009452</td>\n      <td>0.020799</td>\n    </tr>\n    <tr>\n      <th>15127</th>\n      <td>email</td>\n      <td>0.000000</td>\n      <td>0.000000</td>\n      <td>0.001019</td>\n      <td>0.009156</td>\n      <td>0.000000</td>\n      <td>0.011639</td>\n    </tr>\n    <tr>\n      <th>15128</th>\n      <td>traditional</td>\n      <td>0.010180</td>\n      <td>0.000000</td>\n      <td>0.002691</td>\n      <td>0.002016</td>\n      <td>0.000000</td>\n      <td>0.003844</td>\n    </tr>\n    <tr>\n      <th>15129</th>\n      <td>3–10</td>\n      <td>0.000000</td>\n      <td>0.000000</td>\n      <td>0.000000</td>\n      <td>0.000000</td>\n      <td>0.000000</td>\n      <td>0.013365</td>\n    </tr>\n  </tbody>\n</table>\n<p>15130 rows × 7 columns</p>\n</div>"
     },
     "metadata": {},
     "execution_count": 10
    }
   ],
   "source": [
    "def normalization_Document(TF_IDF):\n",
    "    no_of_docs = len(TF_IDF)\n",
    "    for i in range(no_of_docs):\n",
    "        divider = 0\n",
    "        for j in TF_IDF[i]:\n",
    "            divider += j**2\n",
    "        divider = math.sqrt(divider)\n",
    "        TF_IDF[i] = [k/divider for k in TF_IDF[i]]\n",
    "    return TF_IDF\n",
    "\n",
    "normalized = normalization_Document(TF_IDF)\n",
    "pd.DataFrame({\n",
    "    \"Terms\" : list(terms),\n",
    "    \"Doc 1\" : normalized[0],\n",
    "    \"Doc 2\" : normalized[1],\n",
    "    \"Doc 3\" : normalized[2],\n",
    "    \"Doc 4\" : normalized[3],\n",
    "    \"Doc 5\" : normalized[4],\n",
    "    \"Doc 6\" : normalized[5],\n",
    "})"
   ]
  },
  {
   "cell_type": "code",
   "execution_count": 11,
   "metadata": {},
   "outputs": [
    {
     "output_type": "execute_result",
     "data": {
      "text/plain": [
       "            Terms    TF_IDF\n",
       "0  communications  0.230828\n",
       "1        learning  0.028403\n",
       "2            want  0.358543\n",
       "3         machine  0.028403\n",
       "4           based  0.028403"
      ],
      "text/html": "<div>\n<style scoped>\n    .dataframe tbody tr th:only-of-type {\n        vertical-align: middle;\n    }\n\n    .dataframe tbody tr th {\n        vertical-align: top;\n    }\n\n    .dataframe thead th {\n        text-align: right;\n    }\n</style>\n<table border=\"1\" class=\"dataframe\">\n  <thead>\n    <tr style=\"text-align: right;\">\n      <th></th>\n      <th>Terms</th>\n      <th>TF_IDF</th>\n    </tr>\n  </thead>\n  <tbody>\n    <tr>\n      <th>0</th>\n      <td>communications</td>\n      <td>0.230828</td>\n    </tr>\n    <tr>\n      <th>1</th>\n      <td>learning</td>\n      <td>0.028403</td>\n    </tr>\n    <tr>\n      <th>2</th>\n      <td>want</td>\n      <td>0.358543</td>\n    </tr>\n    <tr>\n      <th>3</th>\n      <td>machine</td>\n      <td>0.028403</td>\n    </tr>\n    <tr>\n      <th>4</th>\n      <td>based</td>\n      <td>0.028403</td>\n    </tr>\n  </tbody>\n</table>\n</div>"
     },
     "metadata": {},
     "execution_count": 11
    }
   ],
   "source": [
    "def normalization_Query(string):\n",
    "    TF_IDF = query_TF_IDF(string)[1]\n",
    "    divider = 0\n",
    "    for i in TF_IDF:\n",
    "        divider += i**2\n",
    "    TF_IDF = [i/divider for i in TF_IDF]\n",
    "    return TF_IDF\n",
    "\n",
    "pd.DataFrame({\n",
    "    \"Terms\" : query_TF_IDF(string)[0],\n",
    "    \"TF_IDF\" : normalization_Query(string)\n",
    "})"
   ]
  },
  {
   "cell_type": "code",
   "execution_count": 12,
   "metadata": {},
   "outputs": [
    {
     "output_type": "execute_result",
     "data": {
      "text/plain": [
       "  Documents  Cosine Dist\n",
       "0      Doc1     0.005778\n",
       "1      Doc2     0.002249\n",
       "2      Doc3     0.003736\n",
       "3      Doc4     0.007917\n",
       "4      Doc5     0.001648\n",
       "5      Doc6     0.000662"
      ],
      "text/html": "<div>\n<style scoped>\n    .dataframe tbody tr th:only-of-type {\n        vertical-align: middle;\n    }\n\n    .dataframe tbody tr th {\n        vertical-align: top;\n    }\n\n    .dataframe thead th {\n        text-align: right;\n    }\n</style>\n<table border=\"1\" class=\"dataframe\">\n  <thead>\n    <tr style=\"text-align: right;\">\n      <th></th>\n      <th>Documents</th>\n      <th>Cosine Dist</th>\n    </tr>\n  </thead>\n  <tbody>\n    <tr>\n      <th>0</th>\n      <td>Doc1</td>\n      <td>0.005778</td>\n    </tr>\n    <tr>\n      <th>1</th>\n      <td>Doc2</td>\n      <td>0.002249</td>\n    </tr>\n    <tr>\n      <th>2</th>\n      <td>Doc3</td>\n      <td>0.003736</td>\n    </tr>\n    <tr>\n      <th>3</th>\n      <td>Doc4</td>\n      <td>0.007917</td>\n    </tr>\n    <tr>\n      <th>4</th>\n      <td>Doc5</td>\n      <td>0.001648</td>\n    </tr>\n    <tr>\n      <th>5</th>\n      <td>Doc6</td>\n      <td>0.000662</td>\n    </tr>\n  </tbody>\n</table>\n</div>"
     },
     "metadata": {},
     "execution_count": 12
    }
   ],
   "source": [
    "def cosine_dist():\n",
    "    TF_IDF_doc = normalization_Document(TF_IDF)\n",
    "    TF_IDF_query = normalization_Query(string)\n",
    "    tokens = Q_TF_IDF[0]\n",
    "    index_ls = []\n",
    "    for i in tokens:\n",
    "        index_ls.append(terms.index(i))\n",
    "    \n",
    "    cosine_dict = {}\n",
    "    for i in range(len(TF_IDF_doc)):\n",
    "        cosine_dist = 0\n",
    "        index = 0\n",
    "        for j in index_ls:\n",
    "            cosine_dist += TF_IDF_doc[i][j]* TF_IDF_query[index]\n",
    "            index+=1\n",
    "        cosine_dict['Doc'+str(i+1)] = cosine_dist\n",
    "    return cosine_dict\n",
    "\n",
    "pd.DataFrame(list(cosine_dist().items()), columns=['Documents', 'Cosine Dist'])"
   ]
  },
  {
   "cell_type": "code",
   "execution_count": 13,
   "metadata": {},
   "outputs": [
    {
     "output_type": "execute_result",
     "data": {
      "text/plain": [
       "  Documents  Euclidean Dist\n",
       "0      Doc1        0.416352\n",
       "1      Doc2        0.427644\n",
       "2      Doc3        0.421194\n",
       "3      Doc4        0.456539\n",
       "4      Doc5        0.426861\n",
       "5      Doc6        0.427928"
      ],
      "text/html": "<div>\n<style scoped>\n    .dataframe tbody tr th:only-of-type {\n        vertical-align: middle;\n    }\n\n    .dataframe tbody tr th {\n        vertical-align: top;\n    }\n\n    .dataframe thead th {\n        text-align: right;\n    }\n</style>\n<table border=\"1\" class=\"dataframe\">\n  <thead>\n    <tr style=\"text-align: right;\">\n      <th></th>\n      <th>Documents</th>\n      <th>Euclidean Dist</th>\n    </tr>\n  </thead>\n  <tbody>\n    <tr>\n      <th>0</th>\n      <td>Doc1</td>\n      <td>0.416352</td>\n    </tr>\n    <tr>\n      <th>1</th>\n      <td>Doc2</td>\n      <td>0.427644</td>\n    </tr>\n    <tr>\n      <th>2</th>\n      <td>Doc3</td>\n      <td>0.421194</td>\n    </tr>\n    <tr>\n      <th>3</th>\n      <td>Doc4</td>\n      <td>0.456539</td>\n    </tr>\n    <tr>\n      <th>4</th>\n      <td>Doc5</td>\n      <td>0.426861</td>\n    </tr>\n    <tr>\n      <th>5</th>\n      <td>Doc6</td>\n      <td>0.427928</td>\n    </tr>\n  </tbody>\n</table>\n</div>"
     },
     "metadata": {},
     "execution_count": 13
    }
   ],
   "source": [
    "def euclidean_dist():\n",
    "    TF_IDF_doc = normalization_Document(TF_IDF)\n",
    "    TF_IDF_query = normalization_Query(string)\n",
    "    tokens = Q_TF_IDF[0]\n",
    "    index_ls = []\n",
    "    for i in tokens:\n",
    "        index_ls.append(terms.index(i))\n",
    "    \n",
    "    euclidean_dict = {}\n",
    "    for i in range(len(TF_IDF_doc)):\n",
    "        euclidean_dist = 0\n",
    "        index = 0\n",
    "        for j in index_ls:\n",
    "            euclidean_dist += (TF_IDF_doc[i][j] - TF_IDF_query[index])**2\n",
    "            index+=1\n",
    "        euclidean_dist = math.sqrt(euclidean_dist)\n",
    "        euclidean_dict['Doc'+str(i+1)] = euclidean_dist\n",
    "    return euclidean_dict\n",
    "\n",
    "pd.DataFrame(list(euclidean_dist().items()), columns=['Documents', 'Euclidean Dist'])"
   ]
  },
  {
   "cell_type": "code",
   "execution_count": 14,
   "metadata": {},
   "outputs": [
    {
     "output_type": "execute_result",
     "data": {
      "text/plain": [
       "      0         1\n",
       "0  Doc6  0.000662\n",
       "1  Doc5  0.001648\n",
       "2  Doc2  0.002249\n",
       "3  Doc3  0.003736\n",
       "4  Doc1  0.005778\n",
       "5  Doc4  0.007917"
      ],
      "text/html": "<div>\n<style scoped>\n    .dataframe tbody tr th:only-of-type {\n        vertical-align: middle;\n    }\n\n    .dataframe tbody tr th {\n        vertical-align: top;\n    }\n\n    .dataframe thead th {\n        text-align: right;\n    }\n</style>\n<table border=\"1\" class=\"dataframe\">\n  <thead>\n    <tr style=\"text-align: right;\">\n      <th></th>\n      <th>0</th>\n      <th>1</th>\n    </tr>\n  </thead>\n  <tbody>\n    <tr>\n      <th>0</th>\n      <td>Doc6</td>\n      <td>0.000662</td>\n    </tr>\n    <tr>\n      <th>1</th>\n      <td>Doc5</td>\n      <td>0.001648</td>\n    </tr>\n    <tr>\n      <th>2</th>\n      <td>Doc2</td>\n      <td>0.002249</td>\n    </tr>\n    <tr>\n      <th>3</th>\n      <td>Doc3</td>\n      <td>0.003736</td>\n    </tr>\n    <tr>\n      <th>4</th>\n      <td>Doc1</td>\n      <td>0.005778</td>\n    </tr>\n    <tr>\n      <th>5</th>\n      <td>Doc4</td>\n      <td>0.007917</td>\n    </tr>\n  </tbody>\n</table>\n</div>"
     },
     "metadata": {},
     "execution_count": 14
    }
   ],
   "source": [
    "sorted_dict = {k: v for k,v in sorted(cosine_dist().items(), key=lambda item: item[1])}\n",
    "\n",
    "pd.DataFrame(list(sorted_dict.items()))"
   ]
  },
  {
   "cell_type": "code",
   "execution_count": 15,
   "metadata": {},
   "outputs": [
    {
     "output_type": "execute_result",
     "data": {
      "text/plain": [
       "  Similarity between  Cosine value\n",
       "0      Doc1 and Doc2      0.369324\n",
       "1      Doc1 and Doc3      0.135916\n",
       "2      Doc1 and Doc4      0.182782\n",
       "3      Doc1 and Doc5      0.145552\n",
       "4      Doc1 and Doc6      0.277352"
      ],
      "text/html": "<div>\n<style scoped>\n    .dataframe tbody tr th:only-of-type {\n        vertical-align: middle;\n    }\n\n    .dataframe tbody tr th {\n        vertical-align: top;\n    }\n\n    .dataframe thead th {\n        text-align: right;\n    }\n</style>\n<table border=\"1\" class=\"dataframe\">\n  <thead>\n    <tr style=\"text-align: right;\">\n      <th></th>\n      <th>Similarity between</th>\n      <th>Cosine value</th>\n    </tr>\n  </thead>\n  <tbody>\n    <tr>\n      <th>0</th>\n      <td>Doc1 and Doc2</td>\n      <td>0.369324</td>\n    </tr>\n    <tr>\n      <th>1</th>\n      <td>Doc1 and Doc3</td>\n      <td>0.135916</td>\n    </tr>\n    <tr>\n      <th>2</th>\n      <td>Doc1 and Doc4</td>\n      <td>0.182782</td>\n    </tr>\n    <tr>\n      <th>3</th>\n      <td>Doc1 and Doc5</td>\n      <td>0.145552</td>\n    </tr>\n    <tr>\n      <th>4</th>\n      <td>Doc1 and Doc6</td>\n      <td>0.277352</td>\n    </tr>\n  </tbody>\n</table>\n</div>"
     },
     "metadata": {},
     "execution_count": 15
    }
   ],
   "source": [
    "def doc_similarity():\n",
    "    TF_IDF_doc = normalization_Document(TF_IDF)\n",
    "    len_doc = len(TF_IDF_doc[0])\n",
    "    cosine_sim = []\n",
    "    for i in range(1, len(TF_IDF_doc)):\n",
    "        temp = 0\n",
    "        for j in range(len_doc):\n",
    "            temp += TF_IDF_doc[0][j] * TF_IDF_doc[i][j]\n",
    "        cosine_sim.append(temp)\n",
    "    return cosine_sim\n",
    "\n",
    "ls = [\"Doc1 and Doc2\", \"Doc1 and Doc3\", \"Doc1 and Doc4\", \"Doc1 and Doc5\", \"Doc1 and Doc6\"]\n",
    "\n",
    "pd.DataFrame({\n",
    "    \"Similarity between\" : ls,\n",
    "    \"Cosine value\" : doc_similarity()\n",
    "})"
   ]
  }
 ]
}