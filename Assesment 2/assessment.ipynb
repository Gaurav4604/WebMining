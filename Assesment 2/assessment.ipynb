{
 "metadata": {
  "language_info": {
   "codemirror_mode": {
    "name": "ipython",
    "version": 3
   },
   "file_extension": ".py",
   "mimetype": "text/x-python",
   "name": "python",
   "nbconvert_exporter": "python",
   "pygments_lexer": "ipython3",
   "version": "3.6.5-final"
  },
  "orig_nbformat": 2,
  "kernelspec": {
   "name": "virtualenv",
   "display_name": "virtualEnv",
   "language": "python"
  }
 },
 "nbformat": 4,
 "nbformat_minor": 2,
 "cells": [
  {
   "cell_type": "code",
   "execution_count": 1,
   "metadata": {
    "tags": []
   },
   "outputs": [],
   "source": [
    "# dfs concurrency\n",
    "import requests\n",
    "from bs4 import BeautifulSoup\n",
    "from collections import deque\n",
    "import re\n",
    "import threading\n",
    "\n",
    "def dfs(url):\n",
    "    visited = set([url])\n",
    "    dq = deque([[url, \"\", 0]])\n",
    "    max_depth = 3\n",
    "    max_breadth = 5\n",
    "    string = \"\"\n",
    "    while dq:\n",
    "        base, path, depth = dq.popleft()\n",
    "        if depth < max_depth:\n",
    "            try:\n",
    "                soup = BeautifulSoup(requests.get(base + path).text, \"html.parser\")\n",
    "                links = soup.find_all(\"a\")[:max_breadth]\n",
    "                for link in links:\n",
    "                    href = link.get(\"href\")\n",
    "                    if href not in visited:\n",
    "                        visited.add(href)\n",
    "                        string += (\"  \" * depth + f\"at depth {depth}: {href}\\n\")\n",
    "\n",
    "                        if href.startswith(\"http\") or href.startswith(\"https\"):\n",
    "                            dq.append([href, \"\", depth + 1])\n",
    "                        else:\n",
    "                            dq.append([base, href, depth + 1])\n",
    "            except:\n",
    "                pass\n",
    "\n",
    "    filename =\"\"\n",
    "    if \"https://\" in url:\n",
    "        filename = re.sub(r\"https://\",\"\",url)\n",
    "        filename = re.sub(r\".com\",\"\",filename)\n",
    "    elif \"http://\" in url:\n",
    "        filename = re.sub(r\"http://\",\"\",url)\n",
    "        filename = re.sub(r\".com\",\"\",filename)\n",
    "\n",
    "    file  = open(\"crawled_links/\"+filename+\".txt\",\"w\")\n",
    "    file.write(string)\n",
    "    file.close()"
   ]
  },
  {
   "cell_type": "code",
   "execution_count": 2,
   "metadata": {},
   "outputs": [
    {
     "output_type": "stream",
     "name": "stdout",
     "text": [
      "files made!\n"
     ]
    }
   ],
   "source": [
    "frontier = [\"http://toscrape.com\", \"https://soundcloud.com\", \"http://reddit.com\", \"https://fc2.com\"]\n",
    "\n",
    "def threadCreater(frontier):\n",
    "    threads = []\n",
    "    for i in frontier:\n",
    "        t = threading.Thread(target = dfs, args=(i,))\n",
    "        threads.append(t)\n",
    "    return threads\n",
    "\n",
    "threads = threadCreater(frontier)\n",
    "for i in threads:\n",
    "    i.start()\n",
    "for i in threads:\n",
    "    i.join()\n",
    "print(\"files made!\")"
   ]
  },
  {
   "cell_type": "code",
   "execution_count": 3,
   "metadata": {},
   "outputs": [
    {
     "output_type": "stream",
     "name": "stdout",
     "text": [
      "000011010\n000011011\n"
     ]
    }
   ],
   "source": [
    "import math\n",
    "\n",
    "def unary(x):\n",
    "    return '0'*(x-1)+'1'\n",
    "\n",
    "def encoder(x, b):\n",
    "    q = math.floor(x/b)\n",
    "    q_encode = unary(q+1)\n",
    "    i = math.floor(math.log2(b))\n",
    "    d = int(2**(i+1))-b\n",
    "    r = x%b\n",
    "    rem = \"\"\n",
    "    if r < d:\n",
    "        rem = bin(r)[2:]\n",
    "        l = len(rem)\n",
    "        if l < i:\n",
    "            rem = '0'*(i - l)+rem\n",
    "    else:\n",
    "        rem = bin(r + d)[2:]\n",
    "        l = len(rem)\n",
    "        if l < i+1:\n",
    "            rem = '0'*(i+1-l) + rem\n",
    "    return q_encode+rem\n",
    "\n",
    "print(encoder(74, 16))\n",
    "print(encoder(50, 11))"
   ]
  },
  {
   "cell_type": "code",
   "execution_count": 4,
   "metadata": {},
   "outputs": [
    {
     "output_type": "stream",
     "name": "stdout",
     "text": [
      "9\n"
     ]
    }
   ],
   "source": [
    "def decode(n, M):\n",
    "    q=len(n.split('1')[0])\n",
    "    b=math.floor(math.log2(M))\n",
    "    k = 2**(b+1)-M\n",
    "    r = int(n[q+1:q+1+b],2)\n",
    "    if r>=k:\n",
    "        r = int(n[q+1:q+1+b+1],2)\n",
    "        r=r-k\n",
    "    x=q*M+r\n",
    "    return x\n",
    "\n",
    "print(decode(\"1111111110010001101\", 10))"
   ]
  },
  {
   "cell_type": "code",
   "execution_count": 5,
   "metadata": {},
   "outputs": [
    {
     "output_type": "execute_result",
     "data": {
      "text/plain": [
       "            Terms  Doc 1  Doc 2  Doc 3  Doc 4  Doc 5  Doc 6\n",
       "0          common      1      4      7      4      5      1\n",
       "1            quan      1      0      0      0      0      0\n",
       "2          schema      3      3      1      1      0      0\n",
       "3        pointing      2      0      0      0      0      0\n",
       "4             4.1      1      0      1      1      1      0\n",
       "...           ...    ...    ...    ...    ...    ...    ...\n",
       "15125   valitutti      0      0      0      0      0      1\n",
       "15126  matemática      0      0      0      0      0      1\n",
       "15127   empirical      0      1      3      2      1      1\n",
       "15128   libraries      1      3      0      0      0      2\n",
       "15129     weapons      0      0      2      0      0      1\n",
       "\n",
       "[15130 rows x 7 columns]"
      ],
      "text/html": "<div>\n<style scoped>\n    .dataframe tbody tr th:only-of-type {\n        vertical-align: middle;\n    }\n\n    .dataframe tbody tr th {\n        vertical-align: top;\n    }\n\n    .dataframe thead th {\n        text-align: right;\n    }\n</style>\n<table border=\"1\" class=\"dataframe\">\n  <thead>\n    <tr style=\"text-align: right;\">\n      <th></th>\n      <th>Terms</th>\n      <th>Doc 1</th>\n      <th>Doc 2</th>\n      <th>Doc 3</th>\n      <th>Doc 4</th>\n      <th>Doc 5</th>\n      <th>Doc 6</th>\n    </tr>\n  </thead>\n  <tbody>\n    <tr>\n      <th>0</th>\n      <td>common</td>\n      <td>1</td>\n      <td>4</td>\n      <td>7</td>\n      <td>4</td>\n      <td>5</td>\n      <td>1</td>\n    </tr>\n    <tr>\n      <th>1</th>\n      <td>quan</td>\n      <td>1</td>\n      <td>0</td>\n      <td>0</td>\n      <td>0</td>\n      <td>0</td>\n      <td>0</td>\n    </tr>\n    <tr>\n      <th>2</th>\n      <td>schema</td>\n      <td>3</td>\n      <td>3</td>\n      <td>1</td>\n      <td>1</td>\n      <td>0</td>\n      <td>0</td>\n    </tr>\n    <tr>\n      <th>3</th>\n      <td>pointing</td>\n      <td>2</td>\n      <td>0</td>\n      <td>0</td>\n      <td>0</td>\n      <td>0</td>\n      <td>0</td>\n    </tr>\n    <tr>\n      <th>4</th>\n      <td>4.1</td>\n      <td>1</td>\n      <td>0</td>\n      <td>1</td>\n      <td>1</td>\n      <td>1</td>\n      <td>0</td>\n    </tr>\n    <tr>\n      <th>...</th>\n      <td>...</td>\n      <td>...</td>\n      <td>...</td>\n      <td>...</td>\n      <td>...</td>\n      <td>...</td>\n      <td>...</td>\n    </tr>\n    <tr>\n      <th>15125</th>\n      <td>valitutti</td>\n      <td>0</td>\n      <td>0</td>\n      <td>0</td>\n      <td>0</td>\n      <td>0</td>\n      <td>1</td>\n    </tr>\n    <tr>\n      <th>15126</th>\n      <td>matemática</td>\n      <td>0</td>\n      <td>0</td>\n      <td>0</td>\n      <td>0</td>\n      <td>0</td>\n      <td>1</td>\n    </tr>\n    <tr>\n      <th>15127</th>\n      <td>empirical</td>\n      <td>0</td>\n      <td>1</td>\n      <td>3</td>\n      <td>2</td>\n      <td>1</td>\n      <td>1</td>\n    </tr>\n    <tr>\n      <th>15128</th>\n      <td>libraries</td>\n      <td>1</td>\n      <td>3</td>\n      <td>0</td>\n      <td>0</td>\n      <td>0</td>\n      <td>2</td>\n    </tr>\n    <tr>\n      <th>15129</th>\n      <td>weapons</td>\n      <td>0</td>\n      <td>0</td>\n      <td>2</td>\n      <td>0</td>\n      <td>0</td>\n      <td>1</td>\n    </tr>\n  </tbody>\n</table>\n<p>15130 rows × 7 columns</p>\n</div>"
     },
     "metadata": {},
     "execution_count": 5
    }
   ],
   "source": [
    "# Q4\n",
    "from nltk.tokenize import word_tokenize\n",
    "from spacy.lang.en.stop_words import STOP_WORDS\n",
    "from functools import reduce\n",
    "from urllib import request\n",
    "import pandas as pd\n",
    "\n",
    "stop_words = set(STOP_WORDS)\n",
    "stop_words = stop_words.union({'.',',','\\'','\\\"','?','{','}','[',']','<','>','(',')','!'})\n",
    "\n",
    "def extract(url):\n",
    "    html = request.urlopen(url).read().decode('utf8')\n",
    "    string = BeautifulSoup(html, 'html.parser').get_text().lower()\n",
    "    return list(word_tokenize(string))\n",
    "\n",
    "def store(name, ls):\n",
    "    with open(name,'w') as f:\n",
    "        for item in list(ls):\n",
    "            try:\n",
    "                f.write('%s\\n'%item)\n",
    "            except:\n",
    "                pass\n",
    "def term_maker(ls, filenames):\n",
    "    terms = []\n",
    "    index = 0\n",
    "    for i in ls:\n",
    "        st = set(i).difference(stop_words)\n",
    "        store('extracted_content/'+filenames[index]+'.txt', list(st))\n",
    "        index += 1\n",
    "        terms.append(list(st))\n",
    "    terms = reduce(lambda z,y : z+y, terms)\n",
    "    return terms\n",
    "\n",
    "def counter(tokens, terms):\n",
    "    ls = []\n",
    "    for i in terms:\n",
    "        ls.append(tokens.count(i))\n",
    "    return ls\n",
    "\n",
    "base = 'https://en.wikipedia.org/wiki/'\n",
    "links = ['Web_mining','Data_mining','Artificial_intelligence','Machine_learning','Natural_language_processing','Text_mining']\n",
    "token_list = []\n",
    "for i in links:\n",
    "    token_list.append(extract(base+i))\n",
    "terms = term_maker(token_list, links)\n",
    "bagOfWords = []\n",
    "for i in token_list:\n",
    "    bagOfWords.append(counter(i,terms))\n",
    "\n",
    "pd.DataFrame({\n",
    "    \"Terms\" : list(terms),\n",
    "    \"Doc 1\" : bagOfWords[0],     \n",
    "    \"Doc 2\" : bagOfWords[1],     \n",
    "    \"Doc 3\" : bagOfWords[2],     \n",
    "    \"Doc 4\" : bagOfWords[3],     \n",
    "    \"Doc 5\" : bagOfWords[4],     \n",
    "    \"Doc 6\" : bagOfWords[5]    \n",
    "})"
   ]
  },
  {
   "cell_type": "code",
   "execution_count": 6,
   "metadata": {},
   "outputs": [
    {
     "output_type": "execute_result",
     "data": {
      "text/plain": [
       "            Terms     Doc 1     Doc 2     Doc 3     Doc 4     Doc 5     Doc 6\n",
       "0          common  0.000288  0.000706  0.000638  0.000516  0.000931  0.000194\n",
       "1            quan  0.000288  0.000000  0.000000  0.000000  0.000000  0.000000\n",
       "2          schema  0.000864  0.000530  0.000091  0.000129  0.000000  0.000000\n",
       "3        pointing  0.000576  0.000000  0.000000  0.000000  0.000000  0.000000\n",
       "4             4.1  0.000288  0.000000  0.000091  0.000129  0.000186  0.000000\n",
       "...           ...       ...       ...       ...       ...       ...       ...\n",
       "15125   valitutti  0.000000  0.000000  0.000000  0.000000  0.000000  0.000194\n",
       "15126  matemática  0.000000  0.000000  0.000000  0.000000  0.000000  0.000194\n",
       "15127   empirical  0.000000  0.000177  0.000273  0.000258  0.000186  0.000194\n",
       "15128   libraries  0.000288  0.000530  0.000000  0.000000  0.000000  0.000387\n",
       "15129     weapons  0.000000  0.000000  0.000182  0.000000  0.000000  0.000194\n",
       "\n",
       "[15130 rows x 7 columns]"
      ],
      "text/html": "<div>\n<style scoped>\n    .dataframe tbody tr th:only-of-type {\n        vertical-align: middle;\n    }\n\n    .dataframe tbody tr th {\n        vertical-align: top;\n    }\n\n    .dataframe thead th {\n        text-align: right;\n    }\n</style>\n<table border=\"1\" class=\"dataframe\">\n  <thead>\n    <tr style=\"text-align: right;\">\n      <th></th>\n      <th>Terms</th>\n      <th>Doc 1</th>\n      <th>Doc 2</th>\n      <th>Doc 3</th>\n      <th>Doc 4</th>\n      <th>Doc 5</th>\n      <th>Doc 6</th>\n    </tr>\n  </thead>\n  <tbody>\n    <tr>\n      <th>0</th>\n      <td>common</td>\n      <td>0.000288</td>\n      <td>0.000706</td>\n      <td>0.000638</td>\n      <td>0.000516</td>\n      <td>0.000931</td>\n      <td>0.000194</td>\n    </tr>\n    <tr>\n      <th>1</th>\n      <td>quan</td>\n      <td>0.000288</td>\n      <td>0.000000</td>\n      <td>0.000000</td>\n      <td>0.000000</td>\n      <td>0.000000</td>\n      <td>0.000000</td>\n    </tr>\n    <tr>\n      <th>2</th>\n      <td>schema</td>\n      <td>0.000864</td>\n      <td>0.000530</td>\n      <td>0.000091</td>\n      <td>0.000129</td>\n      <td>0.000000</td>\n      <td>0.000000</td>\n    </tr>\n    <tr>\n      <th>3</th>\n      <td>pointing</td>\n      <td>0.000576</td>\n      <td>0.000000</td>\n      <td>0.000000</td>\n      <td>0.000000</td>\n      <td>0.000000</td>\n      <td>0.000000</td>\n    </tr>\n    <tr>\n      <th>4</th>\n      <td>4.1</td>\n      <td>0.000288</td>\n      <td>0.000000</td>\n      <td>0.000091</td>\n      <td>0.000129</td>\n      <td>0.000186</td>\n      <td>0.000000</td>\n    </tr>\n    <tr>\n      <th>...</th>\n      <td>...</td>\n      <td>...</td>\n      <td>...</td>\n      <td>...</td>\n      <td>...</td>\n      <td>...</td>\n      <td>...</td>\n    </tr>\n    <tr>\n      <th>15125</th>\n      <td>valitutti</td>\n      <td>0.000000</td>\n      <td>0.000000</td>\n      <td>0.000000</td>\n      <td>0.000000</td>\n      <td>0.000000</td>\n      <td>0.000194</td>\n    </tr>\n    <tr>\n      <th>15126</th>\n      <td>matemática</td>\n      <td>0.000000</td>\n      <td>0.000000</td>\n      <td>0.000000</td>\n      <td>0.000000</td>\n      <td>0.000000</td>\n      <td>0.000194</td>\n    </tr>\n    <tr>\n      <th>15127</th>\n      <td>empirical</td>\n      <td>0.000000</td>\n      <td>0.000177</td>\n      <td>0.000273</td>\n      <td>0.000258</td>\n      <td>0.000186</td>\n      <td>0.000194</td>\n    </tr>\n    <tr>\n      <th>15128</th>\n      <td>libraries</td>\n      <td>0.000288</td>\n      <td>0.000530</td>\n      <td>0.000000</td>\n      <td>0.000000</td>\n      <td>0.000000</td>\n      <td>0.000387</td>\n    </tr>\n    <tr>\n      <th>15129</th>\n      <td>weapons</td>\n      <td>0.000000</td>\n      <td>0.000000</td>\n      <td>0.000182</td>\n      <td>0.000000</td>\n      <td>0.000000</td>\n      <td>0.000194</td>\n    </tr>\n  </tbody>\n</table>\n<p>15130 rows × 7 columns</p>\n</div>"
     },
     "metadata": {},
     "execution_count": 6
    }
   ],
   "source": [
    "def total(ls):\n",
    "    count=0\n",
    "    for i in ls:\n",
    "        if i != 0:\n",
    "            count+=1\n",
    "    return count\n",
    "\n",
    "TF = [[number/total(i) for number in i] for i in bagOfWords]\n",
    "pd.DataFrame({\n",
    "    \"Terms\" : list(terms),\n",
    "    \"Doc 1\" : TF[0],     \n",
    "    \"Doc 2\" : TF[1],     \n",
    "    \"Doc 3\" : TF[2],     \n",
    "    \"Doc 4\" : TF[3],     \n",
    "    \"Doc 5\" : TF[4],     \n",
    "    \"Doc 6\" : TF[5]    \n",
    "})"
   ]
  },
  {
   "cell_type": "code",
   "execution_count": 7,
   "metadata": {
    "tags": []
   },
   "outputs": [
    {
     "output_type": "execute_result",
     "data": {
      "text/plain": [
       "            Terms  IDF value\n",
       "0          common   0.154151\n",
       "1            quan   1.945910\n",
       "2          schema   0.559616\n",
       "3        pointing   1.945910\n",
       "4             4.1   0.559616\n",
       "...           ...        ...\n",
       "15125   valitutti   1.945910\n",
       "15126  matemática   1.945910\n",
       "15127   empirical   0.336472\n",
       "15128   libraries   0.847298\n",
       "15129     weapons   1.252763\n",
       "\n",
       "[15130 rows x 2 columns]"
      ],
      "text/html": "<div>\n<style scoped>\n    .dataframe tbody tr th:only-of-type {\n        vertical-align: middle;\n    }\n\n    .dataframe tbody tr th {\n        vertical-align: top;\n    }\n\n    .dataframe thead th {\n        text-align: right;\n    }\n</style>\n<table border=\"1\" class=\"dataframe\">\n  <thead>\n    <tr style=\"text-align: right;\">\n      <th></th>\n      <th>Terms</th>\n      <th>IDF value</th>\n    </tr>\n  </thead>\n  <tbody>\n    <tr>\n      <th>0</th>\n      <td>common</td>\n      <td>0.154151</td>\n    </tr>\n    <tr>\n      <th>1</th>\n      <td>quan</td>\n      <td>1.945910</td>\n    </tr>\n    <tr>\n      <th>2</th>\n      <td>schema</td>\n      <td>0.559616</td>\n    </tr>\n    <tr>\n      <th>3</th>\n      <td>pointing</td>\n      <td>1.945910</td>\n    </tr>\n    <tr>\n      <th>4</th>\n      <td>4.1</td>\n      <td>0.559616</td>\n    </tr>\n    <tr>\n      <th>...</th>\n      <td>...</td>\n      <td>...</td>\n    </tr>\n    <tr>\n      <th>15125</th>\n      <td>valitutti</td>\n      <td>1.945910</td>\n    </tr>\n    <tr>\n      <th>15126</th>\n      <td>matemática</td>\n      <td>1.945910</td>\n    </tr>\n    <tr>\n      <th>15127</th>\n      <td>empirical</td>\n      <td>0.336472</td>\n    </tr>\n    <tr>\n      <th>15128</th>\n      <td>libraries</td>\n      <td>0.847298</td>\n    </tr>\n    <tr>\n      <th>15129</th>\n      <td>weapons</td>\n      <td>1.252763</td>\n    </tr>\n  </tbody>\n</table>\n<p>15130 rows × 2 columns</p>\n</div>"
     },
     "metadata": {},
     "execution_count": 7
    }
   ],
   "source": [
    "import math\n",
    "def IDF_helper(ls):\n",
    "    total = []\n",
    "    length = len(ls[0])\n",
    "    for i in range(length):\n",
    "        count = 0\n",
    "        for j in range(len(ls)):\n",
    "            value = ls[j][i]\n",
    "            if value != 0:\n",
    "                count += 1\n",
    "        total.append(count)\n",
    "    return total\n",
    "\n",
    "def IDF_calc():\n",
    "    helper = IDF_helper(bagOfWords)\n",
    "    no_of_doc = 6\n",
    "    IDF_ls = []\n",
    "    for i in helper:\n",
    "        IDF_ls.append(math.log((1+no_of_doc)/i))\n",
    "    return IDF_ls\n",
    "pd.DataFrame({\n",
    "    \"Terms\" : list(terms),\n",
    "    \"IDF value\" : IDF_calc()\n",
    "})"
   ]
  },
  {
   "cell_type": "code",
   "execution_count": 8,
   "metadata": {},
   "outputs": [
    {
     "output_type": "execute_result",
     "data": {
      "text/plain": [
       "            Terms     Doc 1     Doc 2     Doc 3     Doc 4     Doc 5     Doc 6\n",
       "0          common  0.000044  0.000109  0.000098  0.000080  0.000144  0.000030\n",
       "1            quan  0.000560  0.000000  0.000000  0.000000  0.000000  0.000000\n",
       "2          schema  0.000484  0.000296  0.000051  0.000072  0.000000  0.000000\n",
       "3        pointing  0.001121  0.000000  0.000000  0.000000  0.000000  0.000000\n",
       "4             4.1  0.000161  0.000000  0.000051  0.000072  0.000104  0.000000\n",
       "...           ...       ...       ...       ...       ...       ...       ...\n",
       "15125   valitutti  0.000000  0.000000  0.000000  0.000000  0.000000  0.000377\n",
       "15126  matemática  0.000000  0.000000  0.000000  0.000000  0.000000  0.000377\n",
       "15127   empirical  0.000000  0.000059  0.000092  0.000087  0.000063  0.000065\n",
       "15128   libraries  0.000244  0.000449  0.000000  0.000000  0.000000  0.000328\n",
       "15129     weapons  0.000000  0.000000  0.000228  0.000000  0.000000  0.000243\n",
       "\n",
       "[15130 rows x 7 columns]"
      ],
      "text/html": "<div>\n<style scoped>\n    .dataframe tbody tr th:only-of-type {\n        vertical-align: middle;\n    }\n\n    .dataframe tbody tr th {\n        vertical-align: top;\n    }\n\n    .dataframe thead th {\n        text-align: right;\n    }\n</style>\n<table border=\"1\" class=\"dataframe\">\n  <thead>\n    <tr style=\"text-align: right;\">\n      <th></th>\n      <th>Terms</th>\n      <th>Doc 1</th>\n      <th>Doc 2</th>\n      <th>Doc 3</th>\n      <th>Doc 4</th>\n      <th>Doc 5</th>\n      <th>Doc 6</th>\n    </tr>\n  </thead>\n  <tbody>\n    <tr>\n      <th>0</th>\n      <td>common</td>\n      <td>0.000044</td>\n      <td>0.000109</td>\n      <td>0.000098</td>\n      <td>0.000080</td>\n      <td>0.000144</td>\n      <td>0.000030</td>\n    </tr>\n    <tr>\n      <th>1</th>\n      <td>quan</td>\n      <td>0.000560</td>\n      <td>0.000000</td>\n      <td>0.000000</td>\n      <td>0.000000</td>\n      <td>0.000000</td>\n      <td>0.000000</td>\n    </tr>\n    <tr>\n      <th>2</th>\n      <td>schema</td>\n      <td>0.000484</td>\n      <td>0.000296</td>\n      <td>0.000051</td>\n      <td>0.000072</td>\n      <td>0.000000</td>\n      <td>0.000000</td>\n    </tr>\n    <tr>\n      <th>3</th>\n      <td>pointing</td>\n      <td>0.001121</td>\n      <td>0.000000</td>\n      <td>0.000000</td>\n      <td>0.000000</td>\n      <td>0.000000</td>\n      <td>0.000000</td>\n    </tr>\n    <tr>\n      <th>4</th>\n      <td>4.1</td>\n      <td>0.000161</td>\n      <td>0.000000</td>\n      <td>0.000051</td>\n      <td>0.000072</td>\n      <td>0.000104</td>\n      <td>0.000000</td>\n    </tr>\n    <tr>\n      <th>...</th>\n      <td>...</td>\n      <td>...</td>\n      <td>...</td>\n      <td>...</td>\n      <td>...</td>\n      <td>...</td>\n      <td>...</td>\n    </tr>\n    <tr>\n      <th>15125</th>\n      <td>valitutti</td>\n      <td>0.000000</td>\n      <td>0.000000</td>\n      <td>0.000000</td>\n      <td>0.000000</td>\n      <td>0.000000</td>\n      <td>0.000377</td>\n    </tr>\n    <tr>\n      <th>15126</th>\n      <td>matemática</td>\n      <td>0.000000</td>\n      <td>0.000000</td>\n      <td>0.000000</td>\n      <td>0.000000</td>\n      <td>0.000000</td>\n      <td>0.000377</td>\n    </tr>\n    <tr>\n      <th>15127</th>\n      <td>empirical</td>\n      <td>0.000000</td>\n      <td>0.000059</td>\n      <td>0.000092</td>\n      <td>0.000087</td>\n      <td>0.000063</td>\n      <td>0.000065</td>\n    </tr>\n    <tr>\n      <th>15128</th>\n      <td>libraries</td>\n      <td>0.000244</td>\n      <td>0.000449</td>\n      <td>0.000000</td>\n      <td>0.000000</td>\n      <td>0.000000</td>\n      <td>0.000328</td>\n    </tr>\n    <tr>\n      <th>15129</th>\n      <td>weapons</td>\n      <td>0.000000</td>\n      <td>0.000000</td>\n      <td>0.000228</td>\n      <td>0.000000</td>\n      <td>0.000000</td>\n      <td>0.000243</td>\n    </tr>\n  </tbody>\n</table>\n<p>15130 rows × 7 columns</p>\n</div>"
     },
     "metadata": {},
     "execution_count": 8
    }
   ],
   "source": [
    "def TF_IDF_calc(ls):\n",
    "    IDF = IDF_calc()\n",
    "    for i in range(len(ls[0])):\n",
    "        for j in range(6):\n",
    "                ls[j][i]*=IDF[i]\n",
    "    return ls\n",
    "TF_IDF = TF_IDF_calc(TF)\n",
    "pd.DataFrame({\n",
    "    \"Terms\" : list(terms),\n",
    "    \"Doc 1\" : TF_IDF[0],\n",
    "    \"Doc 2\" : TF_IDF[1],\n",
    "    \"Doc 3\" : TF_IDF[2],\n",
    "    \"Doc 4\" : TF_IDF[3],\n",
    "    \"Doc 5\" : TF_IDF[4],\n",
    "    \"Doc 6\" : TF_IDF[5]\n",
    "})"
   ]
  },
  {
   "cell_type": "code",
   "execution_count": 9,
   "metadata": {},
   "outputs": [
    {
     "output_type": "execute_result",
     "data": {
      "text/plain": [
       "            Terms    TF_IDF\n",
       "0            want  1.945910\n",
       "1           based  0.154151\n",
       "2         machine  0.154151\n",
       "3        learning  0.154151\n",
       "4  communications  1.252763"
      ],
      "text/html": "<div>\n<style scoped>\n    .dataframe tbody tr th:only-of-type {\n        vertical-align: middle;\n    }\n\n    .dataframe tbody tr th {\n        vertical-align: top;\n    }\n\n    .dataframe thead th {\n        text-align: right;\n    }\n</style>\n<table border=\"1\" class=\"dataframe\">\n  <thead>\n    <tr style=\"text-align: right;\">\n      <th></th>\n      <th>Terms</th>\n      <th>TF_IDF</th>\n    </tr>\n  </thead>\n  <tbody>\n    <tr>\n      <th>0</th>\n      <td>want</td>\n      <td>1.945910</td>\n    </tr>\n    <tr>\n      <th>1</th>\n      <td>based</td>\n      <td>0.154151</td>\n    </tr>\n    <tr>\n      <th>2</th>\n      <td>machine</td>\n      <td>0.154151</td>\n    </tr>\n    <tr>\n      <th>3</th>\n      <td>learning</td>\n      <td>0.154151</td>\n    </tr>\n    <tr>\n      <th>4</th>\n      <td>communications</td>\n      <td>1.252763</td>\n    </tr>\n  </tbody>\n</table>\n</div>"
     },
     "metadata": {},
     "execution_count": 9
    }
   ],
   "source": [
    "def query_TF_IDF(string):\n",
    "    ref_tokens = list(word_tokenize(string.lower()))\n",
    "    tokens = list(set(word_tokenize(string.lower())).difference(stop_words))\n",
    "    Tf_query = []\n",
    "    for i in tokens:\n",
    "        Tf_query.append(1/ref_tokens.count(i))\n",
    "    ref_IDF = IDF_calc()\n",
    "    TF_IDF = []\n",
    "    for i in range(len(tokens)):\n",
    "        if tokens[i] in terms:\n",
    "            index = terms.index(tokens[i])\n",
    "            value = ref_IDF[index]*Tf_query[i]\n",
    "            TF_IDF.append(value)\n",
    "        else:\n",
    "            TF_IDF.append(0)\n",
    "    return (tokens,TF_IDF)\n",
    "\n",
    "string = \"I want communications based on machine learning\"\n",
    "pd.DataFrame({\n",
    "    \"Terms\" : query_TF_IDF(string)[0],\n",
    "    \"TF_IDF\" : query_TF_IDF(string)[1]\n",
    "})"
   ]
  },
  {
   "cell_type": "code",
   "execution_count": 10,
   "metadata": {},
   "outputs": [
    {
     "output_type": "execute_result",
     "data": {
      "text/plain": [
       "            Terms     Doc 1     Doc 2     Doc 3     Doc 4     Doc 5     Doc 6\n",
       "0          common  0.001402  0.003442  0.001297  0.002221  0.004330  0.001059\n",
       "1            quan  0.017700  0.000000  0.000000  0.000000  0.000000  0.000000\n",
       "2          schema  0.015271  0.009372  0.000673  0.002016  0.000000  0.000000\n",
       "3        pointing  0.035399  0.000000  0.000000  0.000000  0.000000  0.000000\n",
       "4             4.1  0.005090  0.000000  0.000673  0.002016  0.003144  0.000000\n",
       "...           ...       ...       ...       ...       ...       ...       ...\n",
       "15125   valitutti  0.000000  0.000000  0.000000  0.000000  0.000000  0.013365\n",
       "15126  matemática  0.000000  0.000000  0.000000  0.000000  0.000000  0.013365\n",
       "15127   empirical  0.000000  0.001878  0.001213  0.002424  0.001890  0.002311\n",
       "15128   libraries  0.007707  0.014190  0.000000  0.000000  0.000000  0.011639\n",
       "15129     weapons  0.000000  0.000000  0.003012  0.000000  0.000000  0.008604\n",
       "\n",
       "[15130 rows x 7 columns]"
      ],
      "text/html": "<div>\n<style scoped>\n    .dataframe tbody tr th:only-of-type {\n        vertical-align: middle;\n    }\n\n    .dataframe tbody tr th {\n        vertical-align: top;\n    }\n\n    .dataframe thead th {\n        text-align: right;\n    }\n</style>\n<table border=\"1\" class=\"dataframe\">\n  <thead>\n    <tr style=\"text-align: right;\">\n      <th></th>\n      <th>Terms</th>\n      <th>Doc 1</th>\n      <th>Doc 2</th>\n      <th>Doc 3</th>\n      <th>Doc 4</th>\n      <th>Doc 5</th>\n      <th>Doc 6</th>\n    </tr>\n  </thead>\n  <tbody>\n    <tr>\n      <th>0</th>\n      <td>common</td>\n      <td>0.001402</td>\n      <td>0.003442</td>\n      <td>0.001297</td>\n      <td>0.002221</td>\n      <td>0.004330</td>\n      <td>0.001059</td>\n    </tr>\n    <tr>\n      <th>1</th>\n      <td>quan</td>\n      <td>0.017700</td>\n      <td>0.000000</td>\n      <td>0.000000</td>\n      <td>0.000000</td>\n      <td>0.000000</td>\n      <td>0.000000</td>\n    </tr>\n    <tr>\n      <th>2</th>\n      <td>schema</td>\n      <td>0.015271</td>\n      <td>0.009372</td>\n      <td>0.000673</td>\n      <td>0.002016</td>\n      <td>0.000000</td>\n      <td>0.000000</td>\n    </tr>\n    <tr>\n      <th>3</th>\n      <td>pointing</td>\n      <td>0.035399</td>\n      <td>0.000000</td>\n      <td>0.000000</td>\n      <td>0.000000</td>\n      <td>0.000000</td>\n      <td>0.000000</td>\n    </tr>\n    <tr>\n      <th>4</th>\n      <td>4.1</td>\n      <td>0.005090</td>\n      <td>0.000000</td>\n      <td>0.000673</td>\n      <td>0.002016</td>\n      <td>0.003144</td>\n      <td>0.000000</td>\n    </tr>\n    <tr>\n      <th>...</th>\n      <td>...</td>\n      <td>...</td>\n      <td>...</td>\n      <td>...</td>\n      <td>...</td>\n      <td>...</td>\n      <td>...</td>\n    </tr>\n    <tr>\n      <th>15125</th>\n      <td>valitutti</td>\n      <td>0.000000</td>\n      <td>0.000000</td>\n      <td>0.000000</td>\n      <td>0.000000</td>\n      <td>0.000000</td>\n      <td>0.013365</td>\n    </tr>\n    <tr>\n      <th>15126</th>\n      <td>matemática</td>\n      <td>0.000000</td>\n      <td>0.000000</td>\n      <td>0.000000</td>\n      <td>0.000000</td>\n      <td>0.000000</td>\n      <td>0.013365</td>\n    </tr>\n    <tr>\n      <th>15127</th>\n      <td>empirical</td>\n      <td>0.000000</td>\n      <td>0.001878</td>\n      <td>0.001213</td>\n      <td>0.002424</td>\n      <td>0.001890</td>\n      <td>0.002311</td>\n    </tr>\n    <tr>\n      <th>15128</th>\n      <td>libraries</td>\n      <td>0.007707</td>\n      <td>0.014190</td>\n      <td>0.000000</td>\n      <td>0.000000</td>\n      <td>0.000000</td>\n      <td>0.011639</td>\n    </tr>\n    <tr>\n      <th>15129</th>\n      <td>weapons</td>\n      <td>0.000000</td>\n      <td>0.000000</td>\n      <td>0.003012</td>\n      <td>0.000000</td>\n      <td>0.000000</td>\n      <td>0.008604</td>\n    </tr>\n  </tbody>\n</table>\n<p>15130 rows × 7 columns</p>\n</div>"
     },
     "metadata": {},
     "execution_count": 10
    }
   ],
   "source": [
    "def normalization_Document(TF_IDF):\n",
    "    no_of_docs = len(TF_IDF)\n",
    "    for i in range(no_of_docs):\n",
    "        divider = 0\n",
    "        for j in TF_IDF[i]:\n",
    "            divider += j**2\n",
    "        divider = math.sqrt(divider)\n",
    "        TF_IDF[i] = [k/divider for k in TF_IDF[i]]\n",
    "    return TF_IDF\n",
    "\n",
    "normalized = normalization_Document(TF_IDF)\n",
    "pd.DataFrame({\n",
    "    \"Terms\" : list(terms),\n",
    "    \"Doc 1\" : normalized[0],\n",
    "    \"Doc 2\" : normalized[1],\n",
    "    \"Doc 3\" : normalized[2],\n",
    "    \"Doc 4\" : normalized[3],\n",
    "    \"Doc 5\" : normalized[4],\n",
    "    \"Doc 6\" : normalized[5],\n",
    "})"
   ]
  },
  {
   "cell_type": "code",
   "execution_count": 11,
   "metadata": {},
   "outputs": [
    {
     "output_type": "execute_result",
     "data": {
      "text/plain": [
       "            Terms    TF_IDF\n",
       "0            want  0.358543\n",
       "1           based  0.028403\n",
       "2         machine  0.028403\n",
       "3        learning  0.028403\n",
       "4  communications  0.230828"
      ],
      "text/html": "<div>\n<style scoped>\n    .dataframe tbody tr th:only-of-type {\n        vertical-align: middle;\n    }\n\n    .dataframe tbody tr th {\n        vertical-align: top;\n    }\n\n    .dataframe thead th {\n        text-align: right;\n    }\n</style>\n<table border=\"1\" class=\"dataframe\">\n  <thead>\n    <tr style=\"text-align: right;\">\n      <th></th>\n      <th>Terms</th>\n      <th>TF_IDF</th>\n    </tr>\n  </thead>\n  <tbody>\n    <tr>\n      <th>0</th>\n      <td>want</td>\n      <td>0.358543</td>\n    </tr>\n    <tr>\n      <th>1</th>\n      <td>based</td>\n      <td>0.028403</td>\n    </tr>\n    <tr>\n      <th>2</th>\n      <td>machine</td>\n      <td>0.028403</td>\n    </tr>\n    <tr>\n      <th>3</th>\n      <td>learning</td>\n      <td>0.028403</td>\n    </tr>\n    <tr>\n      <th>4</th>\n      <td>communications</td>\n      <td>0.230828</td>\n    </tr>\n  </tbody>\n</table>\n</div>"
     },
     "metadata": {},
     "execution_count": 11
    }
   ],
   "source": [
    "def normalization_Query(string):\n",
    "    TF_IDF = query_TF_IDF(string)[1]\n",
    "    divider = 0\n",
    "    for i in TF_IDF:\n",
    "        divider += i**2\n",
    "    TF_IDF = [i/divider for i in TF_IDF]\n",
    "    return TF_IDF\n",
    "\n",
    "pd.DataFrame({\n",
    "    \"Terms\" : query_TF_IDF(string)[0],\n",
    "    \"TF_IDF\" : normalization_Query(string)\n",
    "})"
   ]
  },
  {
   "cell_type": "code",
   "execution_count": null,
   "metadata": {},
   "outputs": [],
   "source": []
  }
 ]
}