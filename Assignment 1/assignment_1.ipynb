{
 "metadata": {
  "language_info": {
   "codemirror_mode": {
    "name": "ipython",
    "version": 3
   },
   "file_extension": ".py",
   "mimetype": "text/x-python",
   "name": "python",
   "nbconvert_exporter": "python",
   "pygments_lexer": "ipython3",
   "version": "3.6.5-final"
  },
  "orig_nbformat": 2,
  "kernelspec": {
   "name": "virtualenv",
   "display_name": "virtualEnv",
   "language": "python"
  }
 },
 "nbformat": 4,
 "nbformat_minor": 2,
 "cells": [
  {
   "cell_type": "code",
   "execution_count": 1,
   "metadata": {},
   "outputs": [],
   "source": [
    "# defining punctuation\n",
    "punctuations = '''!()-[]{};:'\"\\,<>./?@#$%^&*_~'''\n",
    "\n",
    "# returns a string of content from the required file\n",
    "def extract_content(path)->str:\n",
    "    file=open(path,\"r\")\n",
    "    return file.read()"
   ]
  },
  {
   "cell_type": "code",
   "execution_count": 7,
   "metadata": {},
   "outputs": [
    {
     "output_type": "stream",
     "name": "stdout",
     "text": [
      "Since the invention of computers or machines, their capability to perform various tasks went on growing exponentially. Humans have developed the power of computer systems in terms of their diverse working domains, their increasing speed, and reducing size with respect to time.\n\nA branch of Computer Science named Artificial Intelligence pursues creating the computers or machines as intelligent as human beings.\nWhat is Artificial Intelligence?\n\nAccording to the father of Artificial Intelligence, John McCarthy, it is \"The science and engineering of making intelligent machines, especially intelligent computer programs\".\n\nArtificial Intelligence is a way of making a computer, a computer-controlled robot, or a software think intelligently, in the similar manner the intelligent humans think.\n\nAI is accomplished by studying how human brain thinks, and how humans learn, decide, and work while trying to solve a problem, and then using the outcomes of this study as a basis of developing intelligent software and systems.\nPhilosophy of AI\n\nWhile exploiting the power of the computer systems, the curiosity of human, lead him to wonder, Can a machine think and behave like humans do?\n\nThus, the development of AI started with the intention of creating similar intelligence in machines that we find and regard high in humans.\nGoals of AI\n\n    To Create Expert Systems - The systems which exhibit intelligent behavior, learn, demonstrate, explain, and advice its users.\n\n    To Implement Human Intelligence in Machines - Creating systems that understand, think, learn, and behave like humans.\n\nWhat Contributes to AI?\n\nArtificial intelligence is a science and technology based on disciplines such as Computer Science, Biology, Psychology, Linguistics, Mathematics, and Engineering. A major thrust of AI is in the development of computer functions associated with human intelligence, such as reasoning, learning, and problem solving.\n\nOut of the following areas, one or multiple areas can contribute to build an intelligent system.\nComponents of AI\nProgramming Without and With AI\n\nThe programming without and with AI is different in following ways -\nProgramming Without AI \tProgramming With AI\nA computer program without AI can answer the specific questions it is meant to solve. \tA computer program with AI can answer the generic questions it is meant to solve.\nModification in the program leads to change in its structure. \tAI programs can absorb new modifications by putting highly independent pieces of information together. Hence you can modify even a minute piece of information of program without affecting its structure.\nModification is not quick and easy. It may lead to affecting the program adversely. \tQuick and Easy program modification.\nWhat is AI Technique?\n\nIn the real world, the knowledge has some unwelcomed properties -\n\n    Its volume is huge, next to unimaginable.\n    It is not well-organized or well-formatted.\n    It keeps changing constantly.\n\nAI Technique is a manner to organize and use the knowledge efficiently in such a way that -\n\n    It should be perceivable by the people who provide it.\n    It should be easily modifiable to correct errors.\n    It should be useful in many situations though it is incomplete or inaccurate.\n\nAI techniques elevate the speed of execution of the complex program it is equipped with.\nApplications of AI\n\nAI has been dominant in various fields such as -\n\n    Gaming - AI plays crucial role in strategic games such as chess, poker, tic-tac-toe, etc., where machine can think of large number of possible positions based on heuristic knowledge.\n\n    Natural Language Processing - It is possible to interact with the computer that understands natural language spoken by humans.\n\n    Expert Systems - There are some applications which integrate machine, software, and special information to impart reasoning and advising. They provide explanation and advice to the users.\n\n    Vision Systems - These systems understand, interpret, and comprehend visual input on the computer. For example,\n\n        A spying aeroplane takes photographs, which are used to figure out spatial information or map of the areas.\n\n        Doctors use clinical expert system to diagnose the patient.\n\n        Police use computer software that can recognize the face of criminal with the stored portrait made by forensic artist.\n\n    Speech Recognition - Some intelligent systems are capable of hearing and comprehending the language in terms of sentences and their meanings while a human talks to it. It can handle different accents, slang words, noise in the background, change in human's noise due to cold, etc.\n\n    Handwriting Recognition - The handwriting recognition software reads the text written on paper by a pen or on screen by a stylus. It can recognize the shapes of the letters and convert it into editable text.\n\n    Intelligent Robots - Robots are able to perform the tasks given by a human. They have sensors to detect physical data from the real world such as light, heat, temperature, movement, sound, bump, and pressure. They have efficient processors, multiple sensors and huge memory, to exhibit intelligence. In addition, they are capable of learning from their mistakes and they can adapt to the new environment.\n\nArtificial Intelligence and Machine Learning: Policy Paper\nForeword\n\nArtificial intelligence is a technology that is already impacting how users interact with, and are affected by the Internet. In the near future, its impact is likely to only continue to grow. AI has the potential to vastly change the way that humans interact, not only with the digital world, but also with each other, through their work and through other socioeconomic institutions for better or for worse.\n\nIf we are to ensure that the impact of artificial intelligence will be positive, it will be essential that all stakeholders participate in the debates surrounding AI.\n\nIn this paper, we seek to provide an introduction to AI to policymakers and other stakeholders in the wider Internet ecosystem.\n\nThe paper explains the basics of the technology behind AI, identifies the key considerations and challenges surrounding the technology, and provides several high-level principles and recommendations to follow when dealing with the technology.\n\nIf more stakeholders bring their points of view and expertise to the discussions surrounding AI, we are confident that its challenges can be addressed and the vast benefits the technology offers can be realized.\nExecutive Summary\n\nArtificial Intelligence (AI) is a rapidly advancing technology, made possible by the Internet, that may soon have significant impacts on our everyday lives. AI traditionally refers to an artificial creation of human-like intelligence that can learn, reason, plan, perceive, or process natural language[1] . These traits allow AI to bring immense socioeconomic opportunities, while also posing ethical and socio-economic challenges.\n\nAs AI is an Internet enabled technology, the Internet Society recognizes that understanding the opportunities and challenges associated with AI is critical to developing an Internet that people can trust.\n\nThis policy paper offers a look at key considerations regarding AI, including a set of guiding principles and recommendations to help those involved in policy making make sound decisions. Of specific focus is machine learning, a particular approach to AI and the driving force behind recent developments. Instead of programming the computer every step of the way, machine learning makes use of learning algorithms that make inferences from data to learn new tasks.\n\nAs machine learning is used more often in products and services, there are some significant considerations when it comes to users' trust in the Internet. Several issues must be considered when addressing AI, including, socio-economic impacts; issues of transparency, bias, and accountability; new uses for data, considerations of security and safety, ethical issues; and, how AI facilitates the creation of new ecosystems.\n\nAt the same time, in this complex field, there are specific challenges facing AI, which include: a lack of transparency and interpretability in decision-making; issues of data quality and potential bias; safety and security implications; considerations regarding accountability; and, its potentially disruptive impacts on social and economic structures.\n\nIn evaluating the different considerations and understanding the various challenges, the Internet Society has developed a set of principles and recommendations in reference to what we believe are the core ï¿½abilitiesï¿½[2] that underpin the value the Internet provides.\n\nWhile the deployment of AI in Internet based services is not new, the current trend points to AI as an increasingly important factor in the Internet's future development and use. As such, these guiding principles and recommendations are a first attempt to guide the debate going forward. They include: ethical considerations in deployment and design; ensuring the ï¿½Interpretabilityï¿½ of AI systems; empowering the consumer; responsibility in the deployment of AI systems; ensuring accountability; and, creating a social and economic environment that is formed through the open participation of different stakeholders.\nIntroduction\n\nArtificial intelligence (AI) has received increased attention in recent years. Innovation, made possible through the Internet, has brought AI closer to our everyday lives. These advances, alongside interest in the technologyï¿½s potential socio-economic and ethical impacts, brings AI to the forefront of many contemporary debates. Industry investments in AI are rapidly increasing [3], and governments are trying to understand what the technology could mean for their citizens. [4]\n\nThe collection of \"Big Data\" and the expansion of the Internet of Things (IoT), has made a perfect environment for new AI applications and services to grow. Applications based on AI are already visible in healthcare diagnostics, targeted treatment, transportation, public safety, service robots, education and entertainment, but will be applied in more fields in the coming years. Together with the Internet, AI changes the way we experience the world and has the potential to be a new engine for economic growth.\n\nCurrent Uses of AI:\n\nAlthough artificial intelligence evokes thoughts of science fiction, artificial intelligence already has many uses today, for example:\n\n    Email filtering: Email services use artificial intelligence to filter incoming emails. Users can train their spam filters by marking emails as \"spam\".\n    Personalization: Online services use artificial intelligence to personalize your experience. Services, like Amazon or Netflix, \"learn\" from your previous purchases and the purchases of other users in order to recommend relevant content for you.\n    Fraud detection: Banks use artificial intelligence to determine if there is strange activity on your account. Unexpected activity, such as foreign transactions, could be flagged by the algorithm.\n    Speech recognition: Applications use artificial intelligence to optimize speech recognition functions. Examples include intelligent personal assistants, e.g. Amazon's \"Alexa\" or Apple's \"Siri\".\n\nThe Internet Society recognizes that understanding the opportunities and challenges associated with AI is critical to developing an Internet that people trust. This is particularly important as the Internet is key for the technology behind AI and is the main platform for its deployment; including significant new means of interacting with the network. This policy paper offers a look at the key things to think about when it comes to AI, including a set of guiding principles and recommendations to help make sound policy decisions. Of particular focus is machine learning, a specific approach to AI and the driving force behind recent developments.\nArtificial Intelligence What it's all about\n\nArtificial intelligence (AI) traditionally refers to an artificial creation of human-like intelligence that can learn, reason, plan, perceive, or process natural language. [5]\n\nArtificial intelligence is further defined as \"narrow AI\" or \"general AI\". Narrow AI, which we interact with today, is designed to perform specific tasks within a domain (e.g. language translation). General AI is hypothetical and not domain specific, but can learn and perform tasks anywhere. This is outside the scope of this paper. This paper focuses on advances in narrow AI, particularly on the development of new algorithms and models in a field of computer science referred to as machine learning.\n"
     ]
    }
   ],
   "source": [
    "# extracting value inside the two files\n",
    "file_1=extract_content(\"Artificial_intelligence.txt\")\n",
    "file_2=extract_content(\"machine_learning.txt\")\n",
    "# printing out value\n",
    "print(file_1)\n",
    "print(file_2)"
   ]
  },
  {
   "cell_type": "code",
   "execution_count": 15,
   "metadata": {},
   "outputs": [],
   "source": [
    "#counting total number of words inside the attached files\n",
    "def builder_funct(string) -> object:\n",
    "    ls=string.split()\n",
    "    for i in range(len(ls)):\n",
    "        ls[i]=ls[i].strip() # for cleaning up the string    \n",
    "        word_builder=\"\"\n",
    "        # for removing the punctuations from word\n",
    "        for j in ls[i]:\n",
    "            if j not in punctuations:\n",
    "                word_builder+=j\n",
    "        ls[i]=word_builder\n",
    "    flag=True\n",
    "    # removing remaining white spaces\n",
    "    while(flag):\n",
    "        try:\n",
    "            ls.remove('')\n",
    "        except:\n",
    "            flag=False\n",
    "        ls_set=list(set(ls))\n",
    "    return [len(ls),ls,ls_set]"
   ]
  },
  {
   "cell_type": "code",
   "execution_count": 16,
   "metadata": {},
   "outputs": [
    {
     "output_type": "stream",
     "name": "stdout",
     "text": [
      "799\n1084\n"
     ]
    }
   ],
   "source": [
    "holder_1=builder_funct(file_1)\n",
    "holder_2=builder_funct(file_2)\n",
    "\n",
    "print(holder_1[0]) # prints number of words in Artificial Intelligence\n",
    "print(holder_2[0])  # prints number of words in Machine learning"
   ]
  },
  {
   "cell_type": "code",
   "execution_count": 17,
   "metadata": {},
   "outputs": [],
   "source": [
    "def frequency(holder) -> dict:\n",
    "    ls_temp1=holder[1] # original list of words\n",
    "    ls_temp2=holder[2] # word set, without repetations\n",
    "    map={} # frequency of values per words\n",
    "    for i in ls_temp2:\n",
    "        count=ls_temp1.count(i)\n",
    "        if count>1:\n",
    "            map[i]=count\n",
    "    return map"
   ]
  },
  {
   "cell_type": "code",
   "execution_count": 21,
   "metadata": {},
   "outputs": [
    {
     "output_type": "stream",
     "name": "stdout",
     "text": [
      "{'computer': 10, 'capable': 2, 'making': 2, 'understand': 2, 'The': 4, 'Expert': 2, 'manner': 2, 'advice': 2, 'terms': 2, 'similar': 2, 'some': 2, 'machines': 4, 'can': 10, 'language': 2, 'affecting': 2, 'be': 3, 'Systems': 3, 'AI': 20, 'creating': 2, 'Intelligence': 5, 'it': 8, 'which': 3, 'text': 2, 'To': 2, 'way': 2, 'their': 5, 'following': 2, 'questions': 2, 'users': 2, 'What': 3, 'perform': 2, 'without': 3, 'to': 25, 'change': 2, 'real': 2, 'reasoning': 2, 'they': 2, 'of': 33, 'different': 2, 'sensors': 2, 'how': 2, 'solve': 3, 'provide': 2, 'should': 3, 'They': 3, 'structure': 2, 'the': 39, 'not': 2, 'tasks': 2, 'answer': 2, 'new': 2, 'Robots': 2, 'in': 16, 'programs': 2, 'Technique': 2, 'areas': 3, 'use': 3, 'Recognition': 2, 'Without': 2, 'from': 2, 'that': 5, 'machine': 3, 'development': 2, 'Artificial': 5, 'A': 5, 'world': 2, 'based': 2, 'Modification': 2, 'like': 2, 'is': 17, 'systems': 7, 'humans': 7, 'It': 9, 'have': 3, 'as': 8, 'meant': 2, 'information': 4, 'exhibit': 2, 'and': 28, 'think': 5, 'multiple': 2, 'its': 3, 'with': 8, 'while': 2, 'In': 2, 'science': 2, 'learning': 2, 'power': 2, 'possible': 2, 'or': 8, 'With': 2, 'knowledge': 3, 'a': 15, 'etc': 2, 'Computer': 2, 'intelligent': 8, 'huge': 2, 'computers': 2, 'human': 6, 'has': 2, 'speed': 2, 'Programming': 3, 'noise': 2, 'learn': 3, 'Science': 2, 'program': 7, 'are': 5, 'by': 8, 'software': 5, 'lead': 2, 'problem': 2, 'intelligence': 4, 'various': 2, 'on': 6, 'such': 6, 'system': 2, 'recognize': 2, 'behave': 2}\n{'Society': 3, 'refers': 2, 'considerations': 7, 'paper': 6, 'computer': 2, 'perceive': 2, 'artificial': 9, 'The': 3, 'force': 2, 'spam': 2, 'interact': 3, 'sound': 2, 'If': 2, 'guiding': 3, 'stakeholders': 4, 'recent': 3, 'Applications': 2, 'will': 3, 'recognition': 2, 'recognizes': 2, 'we': 6, 'environment': 2, 'experience': 2, 'associated': 2, 'comes': 2, 'can': 7, 'language': 2, 'already': 3, 'could': 2, 'be': 8, 'opportunities': 3, 'focus': 2, 'at': 2, 'technology': 9, 'including': 4, 'purchases': 2, 'AI': 37, 'Intelligence': 3, 'narrow': 2, 'Internet': 16, 'it': 3, 'impact': 2, 'natural': 2, 'which': 2, 'Of': 2, 'all': 2, 'social': 2, 'eg': 2, 'when': 4, 'everyday': 2, 'way': 3, 'their': 4, 'approach': 2, 'people': 2, 'policy': 4, 'creation': 3, 'also': 2, 'users': 3, 'important': 2, 'perform': 2, 'driving': 2, 'recommendations': 5, 'to': 37, 'ethical': 4, 'your': 3, 'services': 5, 'ensuring': 2, 'of': 31, 'different': 2, 'advances': 2, 'understanding': 3, 'socioeconomic': 5, 'Email': 2, 'how': 2, 'points': 2, 'future': 2, 'bring': 2, 'there': 3, 'about': 2, 'this': 3, 'domain': 2, 'help': 2, 'particular': 2, 'our': 2, 'security': 2, 'made': 3, 'plan': 2, 'the': 61, 'not': 3, 'tasks': 3, 'set': 3, 'new': 8, 'critical': 2, 'principles': 5, 'in': 21, 'activity': 2, 'rapidly': 2, 'trust': 3, 'This': 5, 'through': 4, 'for': 10, 'years': 2, 'use': 6, 'only': 2, 'specific': 5, 'traditionally': 2, 'today': 2, 'deployment': 4, 'debates': 2, 'from': 2, 'what': 2, 'that': 15, 'accountability': 3, 'provides': 2, 'machine': 5, 'development': 2, 'Artificial': 7, 'world': 2, 'lives': 2, 'based': 2, 'look': 2, 'field': 2, 'particularly': 2, 'an': 7, 'uses': 2, 'humanlike': 2, 'is': 20, 'challenges': 7, 'significant': 3, 'systems': 2, 'emails': 2, 'many': 2, 'regarding': 2, 'as': 6, 'include': 3, 'other': 4, 'and': 43, 'its': 5, 'with': 9, 'In': 3, 'surrounding': 3, 'make': 3, 'science': 2, 'issues': 4, 'As': 3, 'transparency': 2, 'key': 4, 'impacts': 4, 'learning': 6, 'reason': 2, 'safety': 3, 'possible': 2, 'or': 6, 'bias': 2, 'offers': 3, 'a': 16, 'more': 3, 'developments': 2, 'developing': 2, 'algorithms': 2, 'has': 7, 'but': 3, 'behind': 4, 'data': 3, 'grow': 2, 'potential': 4, 'These': 2, 'decisions': 2, 'learn': 5, 'are': 10, 'by': 4, 'intelligence': 13, 'on': 6, 'such': 2, 'economic': 3, 'process': 2}\n"
     ]
    }
   ],
   "source": [
    "map_1=frequency(holder_1) \n",
    "map_2=frequency(holder_2)\n",
    "#prints words and their frequency as defined by keys and values\n",
    "print(map_1)\n",
    "print(map_2)"
   ]
  },
  {
   "cell_type": "code",
   "execution_count": 22,
   "metadata": {},
   "outputs": [],
   "source": [
    "# function to find command words inside both the files and their total count\n",
    "def merge_count(holder_1,holder_2) -> object:\n",
    "    set1=set(holder_1[2])\n",
    "    set2=set(holder_2[2])\n",
    "    list_temp=list(set1.intersection(set2))\n",
    "    return [len(list_temp),list_temp]"
   ]
  },
  {
   "cell_type": "code",
   "execution_count": 23,
   "metadata": {},
   "outputs": [
    {
     "output_type": "stream",
     "name": "stdout",
     "text": [
      "99\n['made', 'way', 'the', 'not', 'and', 'think', 'their', 'functions', 'its', 'tasks', 'people', 'with', 'while', 'work', 'paper', 'computer', 'new', 'programming', 'making', 'In', 'understand', 'The', 'science', 'users', 'in', 'interact', 'What', 'perform', 'learning', 'possible', 'may', 'use', 'to', 'or', 'change', 'sound', 'a', 'complex', 'Applications', 'specific', 'intelligent', 'you', 'applications', 'recognition', 'developing', 'of', 'we', 'environment', 'has', 'from', 'some', 'different', 'that', 'associated', 'fields', 'data', 'machine', 'development', 'Artificial', 'used', 'can', 'language', 'how', 'These', 'be', 'Speech', 'world', 'provide', 'based', 'example', 'technology', 'increasing', 'time', 'an', 'learn', 'AI', 'like', 'creating', 'Intelligence', 'is', 'this', 'it', 'trying', 'are', 'developed', 'natural', 'systems', 'by', 'which', 'intelligence', 'various', 'on', 'They', 'While', 'humans', 'many', 'such', 'have', 'as']\n"
     ]
    }
   ],
   "source": [
    "placeholder=merge_count(holder_1,holder_2)\n",
    "#prints list of words common in both the files and their total number\n",
    "print(placeholder[0])\n",
    "print(placeholder[1])"
   ]
  },
  {
   "cell_type": "code",
   "execution_count": null,
   "metadata": {},
   "outputs": [],
   "source": []
  }
 ]
}