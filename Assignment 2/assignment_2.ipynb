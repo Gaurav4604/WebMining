{
 "metadata": {
  "language_info": {
   "codemirror_mode": {
    "name": "ipython",
    "version": 3
   },
   "file_extension": ".py",
   "mimetype": "text/x-python",
   "name": "python",
   "nbconvert_exporter": "python",
   "pygments_lexer": "ipython3",
   "version": "3.6.5-final"
  },
  "orig_nbformat": 2,
  "kernelspec": {
   "name": "virtualenv",
   "display_name": "virtualEnv",
   "language": "python"
  }
 },
 "nbformat": 4,
 "nbformat_minor": 2,
 "cells": [
  {
   "cell_type": "code",
   "execution_count": 1,
   "metadata": {},
   "outputs": [],
   "source": [
    "# extracting data out of the files\n",
    "Russia_string = open('russia_politics.txt','r').read()\n",
    "TamilNadu_string = open('tamilnadu_politics.txt','r').read()"
   ]
  },
  {
   "cell_type": "code",
   "execution_count": 2,
   "metadata": {},
   "outputs": [],
   "source": [
    "from nltk.corpus import stopwords\n",
    "from nltk.tokenize import word_tokenize\n",
    "import nltk\n",
    "\n",
    "# storing set of stopwords\n",
    "stop_words = list(set(stopwords.words('english')))\n",
    "ls_stop = ['.',',','a','they','the','his','so','and','were','from','that','of','in','only','with','to']\n",
    "stop_words.extend(ls_stop)\n",
    "stop_words=set(stop_words)"
   ]
  },
  {
   "cell_type": "code",
   "execution_count": 3,
   "metadata": {},
   "outputs": [
    {
     "output_type": "stream",
     "name": "stdout",
     "text": [
      "Number of unique terms in Russia : 924\nNumber of unique terms in TamilNadu : 519\n"
     ]
    }
   ],
   "source": [
    "# tokenizing the text files\n",
    "words_Russia = word_tokenize(Russia_string)\n",
    "words_TamilNadu = word_tokenize(TamilNadu_string)\n",
    "\n",
    "# filtering the tokens\n",
    "filtered_Russia = list(set([w for w in words_Russia if not w in stop_words]))\n",
    "filtered_TamilNadu = list(set([w for w in words_TamilNadu if not w in stop_words]))\n",
    "\n",
    "# printing total count of the given terms\n",
    "print('Number of unique terms in Russia : {}\\nNumber of unique terms in TamilNadu : {}'.format(len(filtered_Russia),len(filtered_TamilNadu)))"
   ]
  },
  {
   "cell_type": "code",
   "execution_count": 4,
   "metadata": {},
   "outputs": [
    {
     "output_type": "stream",
     "name": "stdout",
     "text": [
      "Number of unique Lemmatized terms in Tamil Nadu 512 and Russia 886\nNumber of unique stemmed terms in Tamil Nadu 463 and Russia 730\n"
     ]
    }
   ],
   "source": [
    "# applying stemming and lemmatization\n",
    "from nltk.stem.snowball import SnowballStemmer\n",
    "from nltk.stem import WordNetLemmatizer\n",
    "\n",
    "# creating instances of these objects\n",
    "lemmatizer = WordNetLemmatizer()\n",
    "stemmer = SnowballStemmer(language='english')\n",
    "\n",
    "# lemmatizing the Text files\n",
    "list_Russia_lemmatized = [lemmatizer.lemmatize(w) for w in filtered_Russia]\n",
    "list_TamilNadu_lemmatized = [lemmatizer.lemmatize(w) for w in filtered_TamilNadu]\n",
    "\n",
    "# Stemming the Text files\n",
    "list_Russia_stem = [stemmer.stem(w) for w in filtered_Russia]\n",
    "list_TamilNadu_stem = [stemmer.stem(w) for w in filtered_TamilNadu]\n",
    "\n",
    "#unique terms \n",
    "lemmatized_Russia_unique = list(set(list_Russia_lemmatized))\n",
    "lemmatized_TamilNadu_unique = list(set(list_TamilNadu_lemmatized))\n",
    "stemmed_Russia_unique = list(set(list_Russia_stem))\n",
    "stemmed_TamilNadu_unique = list(set(list_TamilNadu_stem))\n",
    "\n",
    "# number of lemmatized and stemmed terms\n",
    "print('Number of unique Lemmatized terms in Tamil Nadu {} and Russia {}'.format(len(lemmatized_TamilNadu_unique),len(lemmatized_Russia_unique)))\n",
    "print('Number of unique stemmed terms in Tamil Nadu {} and Russia {}'.format(len(stemmed_TamilNadu_unique),len(stemmed_Russia_unique)))"
   ]
  },
  {
   "cell_type": "code",
   "execution_count": 5,
   "metadata": {},
   "outputs": [
    {
     "output_type": "execute_result",
     "data": {
      "text/plain": [
       "     List of Terms Stemmed Term Lemmatized Term  Doc1 Frequency  \\\n",
       "0         plotters      plotter         plotter               3   \n",
       "1            vocal        vocal           vocal               1   \n",
       "2          willing         will         willing               1   \n",
       "3             time         time            time               2   \n",
       "4        struggles      struggl        struggle               1   \n",
       "...            ...          ...             ...             ...   \n",
       "1302       provide       provid         provide               1   \n",
       "1303    democratic     democrat      democratic               2   \n",
       "1304          show         show            show               0   \n",
       "1305      External       extern        External               1   \n",
       "1306     Subhasist    subhasist       Subhasist               0   \n",
       "\n",
       "      Doc2 Frequency  \n",
       "0                  0  \n",
       "1                  0  \n",
       "2                  0  \n",
       "3                  1  \n",
       "4                  0  \n",
       "...              ...  \n",
       "1302               1  \n",
       "1303               0  \n",
       "1304               4  \n",
       "1305               0  \n",
       "1306               1  \n",
       "\n",
       "[1307 rows x 5 columns]"
      ],
      "text/html": "<div>\n<style scoped>\n    .dataframe tbody tr th:only-of-type {\n        vertical-align: middle;\n    }\n\n    .dataframe tbody tr th {\n        vertical-align: top;\n    }\n\n    .dataframe thead th {\n        text-align: right;\n    }\n</style>\n<table border=\"1\" class=\"dataframe\">\n  <thead>\n    <tr style=\"text-align: right;\">\n      <th></th>\n      <th>List of Terms</th>\n      <th>Stemmed Term</th>\n      <th>Lemmatized Term</th>\n      <th>Doc1 Frequency</th>\n      <th>Doc2 Frequency</th>\n    </tr>\n  </thead>\n  <tbody>\n    <tr>\n      <th>0</th>\n      <td>plotters</td>\n      <td>plotter</td>\n      <td>plotter</td>\n      <td>3</td>\n      <td>0</td>\n    </tr>\n    <tr>\n      <th>1</th>\n      <td>vocal</td>\n      <td>vocal</td>\n      <td>vocal</td>\n      <td>1</td>\n      <td>0</td>\n    </tr>\n    <tr>\n      <th>2</th>\n      <td>willing</td>\n      <td>will</td>\n      <td>willing</td>\n      <td>1</td>\n      <td>0</td>\n    </tr>\n    <tr>\n      <th>3</th>\n      <td>time</td>\n      <td>time</td>\n      <td>time</td>\n      <td>2</td>\n      <td>1</td>\n    </tr>\n    <tr>\n      <th>4</th>\n      <td>struggles</td>\n      <td>struggl</td>\n      <td>struggle</td>\n      <td>1</td>\n      <td>0</td>\n    </tr>\n    <tr>\n      <th>...</th>\n      <td>...</td>\n      <td>...</td>\n      <td>...</td>\n      <td>...</td>\n      <td>...</td>\n    </tr>\n    <tr>\n      <th>1302</th>\n      <td>provide</td>\n      <td>provid</td>\n      <td>provide</td>\n      <td>1</td>\n      <td>1</td>\n    </tr>\n    <tr>\n      <th>1303</th>\n      <td>democratic</td>\n      <td>democrat</td>\n      <td>democratic</td>\n      <td>2</td>\n      <td>0</td>\n    </tr>\n    <tr>\n      <th>1304</th>\n      <td>show</td>\n      <td>show</td>\n      <td>show</td>\n      <td>0</td>\n      <td>4</td>\n    </tr>\n    <tr>\n      <th>1305</th>\n      <td>External</td>\n      <td>extern</td>\n      <td>External</td>\n      <td>1</td>\n      <td>0</td>\n    </tr>\n    <tr>\n      <th>1306</th>\n      <td>Subhasist</td>\n      <td>subhasist</td>\n      <td>Subhasist</td>\n      <td>0</td>\n      <td>1</td>\n    </tr>\n  </tbody>\n</table>\n<p>1307 rows × 5 columns</p>\n</div>"
     },
     "metadata": {},
     "execution_count": 5
    }
   ],
   "source": [
    "import pandas as pd\n",
    "# creating a set of data which has all the required unique terms\n",
    "common_data = list(set(filtered_Russia + filtered_TamilNadu))\n",
    "\n",
    "# mapping data to to their respective names\n",
    "data_map = {\"List of Terms\" : common_data, \"Stemmed Term\" :[stemmer.stem(w) for w in common_data], \"Lemmatized Term\" : [lemmatizer.lemmatize(w) for w in common_data], \"Doc1 Frequency\" : [words_Russia.count(w) for w in common_data], \"Doc2 Frequency\" : [words_TamilNadu.count(w) for w in common_data]}\n",
    "\n",
    "df = pd.DataFrame(data_map)\n",
    "df"
   ]
  }
 ]
}