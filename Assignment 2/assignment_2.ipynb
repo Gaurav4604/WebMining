{
 "metadata": {
  "language_info": {
   "codemirror_mode": {
    "name": "ipython",
    "version": 3
   },
   "file_extension": ".py",
   "mimetype": "text/x-python",
   "name": "python",
   "nbconvert_exporter": "python",
   "pygments_lexer": "ipython3",
   "version": "3.6.5-final"
  },
  "orig_nbformat": 2,
  "kernelspec": {
   "name": "virtualenv",
   "display_name": "virtualEnv",
   "language": "python"
  }
 },
 "nbformat": 4,
 "nbformat_minor": 2,
 "cells": [
  {
   "cell_type": "code",
   "execution_count": 1,
   "metadata": {},
   "outputs": [],
   "source": [
    "# extracting data out of the files\n",
    "Russia_string = open('russia_politics.txt','r').read()\n",
    "TamilNadu_string = open('tamilnadu_politics.txt','r').read()"
   ]
  },
  {
   "cell_type": "code",
   "execution_count": 2,
   "metadata": {},
   "outputs": [],
   "source": [
    "from nltk.corpus import stopwords\n",
    "from nltk.tokenize import word_tokenize\n",
    "import nltk\n",
    "\n",
    "# storing set of stopwords\n",
    "stop_words = list(set(stopwords.words('english')))\n",
    "ls_stop = ['.',',','a','they','the','his','so','and','were','from','that','of','in','only','with','to']\n",
    "stop_words.extend(ls_stop)\n",
    "stop_words=set(stop_words)"
   ]
  },
  {
   "cell_type": "code",
   "execution_count": 3,
   "metadata": {},
   "outputs": [
    {
     "output_type": "stream",
     "name": "stdout",
     "text": [
      "Number of unique terms in Russia : 924\nNumber of unique terms in TamilNadu : 519\n"
     ]
    }
   ],
   "source": [
    "# tokenizing the text files\n",
    "words_Russia = word_tokenize(Russia_string)\n",
    "words_TamilNadu = word_tokenize(TamilNadu_string)\n",
    "\n",
    "# filtering the tokens\n",
    "filtered_Russia = list(set([w for w in words_Russia if not w in stop_words]))\n",
    "filtered_TamilNadu = list(set([w for w in words_TamilNadu if not w in stop_words]))\n",
    "\n",
    "# printing total count of the given terms\n",
    "print('Number of unique terms in Russia : {}\\nNumber of unique terms in TamilNadu : {}'.format(len(filtered_Russia),len(filtered_TamilNadu)))"
   ]
  },
  {
   "cell_type": "code",
   "execution_count": 9,
   "metadata": {},
   "outputs": [
    {
     "output_type": "stream",
     "name": "stdout",
     "text": [
      "Number of unique Lemmatized terms in Tamil Nadu 519 and Russia 924\nNumber of unique stemmed terms in Tamil Nadu 519 and Russia 924\n"
     ]
    }
   ],
   "source": [
    "# applying stemming and lemmatization\n",
    "from nltk.stem.snowball import SnowballStemmer\n",
    "from nltk.stem import WordNetLemmatizer\n",
    "\n",
    "# creating instances of these objects\n",
    "lemmatizer = WordNetLemmatizer()\n",
    "stemmer = SnowballStemmer(language='english')\n",
    "\n",
    "list_Russia_lemmatized = [lemmatizer.lemmatize(w) for w in filtered_Russia]\n",
    "list_TamilNadu_lemmatized = [lemmatizer.lemmatize(w) for w in filtered_TamilNadu]\n",
    "\n",
    "list_Russia_stem = [stemmer.stem(w) for w in filtered_Russia]\n",
    "list_TamilNadu_stem = [stemmer.stem(w) for w in filtered_TamilNadu]\n",
    "\n",
    "# number of lemmatized and stemmed terms\n",
    "print('Number of unique Lemmatized terms in Tamil Nadu {} and Russia {}'.format(len(list_TamilNadu_lemmatized),len(list_Russia_lemmatized)))\n",
    "print('Number of unique stemmed terms in Tamil Nadu {} and Russia {}'.format(len(list_TamilNadu_stem),len(list_Russia_stem)))"
   ]
  },
  {
   "cell_type": "code",
   "execution_count": null,
   "metadata": {},
   "outputs": [],
   "source": []
  }
 ]
}